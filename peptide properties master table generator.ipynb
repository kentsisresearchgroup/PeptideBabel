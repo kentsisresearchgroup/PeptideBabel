{
 "cells": [
  {
   "cell_type": "markdown",
   "metadata": {},
   "source": [
    "Generates table of min and max hydrophobicity windows for a list of peptides"
   ]
  },
  {
   "cell_type": "markdown",
   "metadata": {},
   "source": [
    "Requirements:\n",
    "* `matplotlib`\n",
    "* `numpy`\n",
    "* `scipy` \n",
    "* `sklearn`\n",
    "* `pandas`\n",
    "* `Biopython`"
   ]
  },
  {
   "cell_type": "code",
   "execution_count": 1,
   "metadata": {},
   "outputs": [],
   "source": [
    "import matplotlib.pyplot as plt\n",
    "import numpy as np\n",
    "\n",
    "%matplotlib inline"
   ]
  },
  {
   "cell_type": "markdown",
   "metadata": {},
   "source": [
    "# 1. Load peptides"
   ]
  },
  {
   "cell_type": "code",
   "execution_count": 3,
   "metadata": {},
   "outputs": [
    {
     "name": "stdout",
     "output_type": "stream",
     "text": [
      "len(ref_set): 8002\n",
      "len(nonredundant_set): 5399\n",
      "some peptides contained the following nonstandard characters: []\n",
      "len(initial_set):  5399\n"
     ]
    }
   ],
   "source": [
    "standard_amino_acids = list('AGILPVFWYDERHKSTCMNQ')\n",
    "\n",
    "import pandas as pd\n",
    "path_to_spreadsheet = 'barcode-lib-all-list.xlsx'\n",
    "ref_set = list(pd.read_excel(path_to_spreadsheet, sheetname=0, header=None)[0])\n",
    "print('len(ref_set):', len(ref_set))\n",
    "# remove redundancies\n",
    "nonredundant_set = sorted(list(set(ref_set)))\n",
    "print('len(nonredundant_set):', len(nonredundant_set))\n",
    "# remove any sequences containing nonstandard characters (e.g. wildcards)\n",
    "print('some peptides contained the following nonstandard characters:',\n",
    "      sorted(list(set(list(''.join(nonredundant_set))).difference(standard_amino_acids))))\n",
    "is_valid = lambda seq : (sum([aa in standard_amino_acids for aa in set(seq)]) / len(set(seq))) == 1\n",
    "for seq in nonredundant_set:\n",
    "    if not is_valid(seq):\n",
    "        print('\\t{}'.format(seq))\n",
    "initial_set = [seq for seq in nonredundant_set if is_valid(seq)]\n",
    "print('len(initial_set): ', len(initial_set))"
   ]
  },
  {
   "cell_type": "markdown",
   "metadata": {},
   "source": [
    "# 2. Compute hydrophobicity"
   ]
  },
  {
   "cell_type": "code",
   "execution_count": 3,
   "metadata": {},
   "outputs": [],
   "source": [
    "from Bio.SeqUtils.ProtParam import ProteinAnalysis, ProtParamData\n",
    "ProtParamData?"
   ]
  },
  {
   "cell_type": "code",
   "execution_count": 5,
   "metadata": {},
   "outputs": [],
   "source": [
    "kyte_doolittle_scale = { 'A': 1.8,'R':-4.5,'N':-3.5,'D':-3.5,'C': 2.5,\n",
    "       'Q':-3.5,'E':-3.5,'G':-0.4,'H':-3.2,'I': 4.5,\n",
    "       'L': 3.8,'K':-3.9,'M': 1.9,'F': 2.8,'P':-1.6,\n",
    "       'S':-0.8,'T':-0.7,'W':-0.9,'Y':-1.3,'V': 4.2 }"
   ]
  },
  {
   "cell_type": "code",
   "execution_count": 6,
   "metadata": {},
   "outputs": [
    {
     "data": {
      "text/plain": [
       "10"
      ]
     },
     "execution_count": 6,
     "metadata": {},
     "output_type": "execute_result"
    }
   ],
   "source": [
    "peptide = initial_set[1]\n",
    "len(peptide)"
   ]
  },
  {
   "cell_type": "code",
   "execution_count": 7,
   "metadata": {},
   "outputs": [
    {
     "name": "stdout",
     "output_type": "stream",
     "text": [
      "AAACHHHEWE\n"
     ]
    }
   ],
   "source": [
    "print (initial_set[1])"
   ]
  },
  {
   "cell_type": "code",
   "execution_count": 8,
   "metadata": {},
   "outputs": [],
   "source": [
    "protein_analysis = ProteinAnalysis(peptide)"
   ]
  },
  {
   "cell_type": "code",
   "execution_count": 9,
   "metadata": {},
   "outputs": [
    {
     "data": {
      "text/plain": [
       "[0.9399999999999998,\n",
       " -0.06000000000000005,\n",
       " -1.06,\n",
       " -2.12,\n",
       " -2.8,\n",
       " -2.8600000000000003]"
      ]
     },
     "execution_count": 9,
     "metadata": {},
     "output_type": "execute_result"
    }
   ],
   "source": [
    "protein_analysis.protein_scale(kyte_doolittle_scale, window=5)"
   ]
  },
  {
   "cell_type": "code",
   "execution_count": 10,
   "metadata": {},
   "outputs": [],
   "source": [
    "def compute_minhyd (protein_analysis, window=5):\n",
    "    \n",
    "    window = min(window, len(protein_analysis.sequence))\n",
    "    hydrophobicity_windows = protein_analysis.protein_scale(kyte_doolittle_scale, window=window)\n",
    "    return np.array (min(hydrophobicity_windows))"
   ]
  },
  {
   "cell_type": "code",
   "execution_count": 11,
   "metadata": {},
   "outputs": [],
   "source": [
    "def compute_maxhyd (protein_analysis, window=5):\n",
    "    \n",
    "    window = min(window, len(protein_analysis.sequence))\n",
    "    hydrophobicity_windows = protein_analysis.protein_scale(kyte_doolittle_scale, window=window)\n",
    "    return np.array (max(hydrophobicity_windows))"
   ]
  },
  {
   "cell_type": "code",
   "execution_count": 12,
   "metadata": {},
   "outputs": [],
   "source": [
    "def compute_medianhyd (protein_analysis, window=5):\n",
    "    \n",
    "    window = min(window, len(protein_analysis.sequence))\n",
    "    hydrophobicity_windows = protein_analysis.protein_scale(kyte_doolittle_scale, window=window)\n",
    "    return np.array (np.median(hydrophobicity_windows))"
   ]
  },
  {
   "cell_type": "code",
   "execution_count": 13,
   "metadata": {},
   "outputs": [],
   "source": [
    "def compute_totalhyd (protein_analysis, window =20):\n",
    "    window = min(window, len(protein_analysis.sequence))\n",
    "    hydrophobicity_windows = protein_analysis.protein_scale(kyte_doolittle_scale, window=window)\n",
    "    return np.array (max(hydrophobicity_windows))"
   ]
  },
  {
   "cell_type": "code",
   "execution_count": 14,
   "metadata": {},
   "outputs": [],
   "source": [
    "def compute_mass(protein_analysis):\n",
    "    \"\"\"Return the molecular weight (in Da) of the peptide\"\"\"\n",
    "    return protein_analysis.molecular_weight()\n",
    "\n",
    "def compute_iso(protein_analysis):\n",
    "    \"\"\"Return isoelectric poitn for peptide\"\"\"\n",
    "    return protein_analysis.isoelectric_point()"
   ]
  },
  {
   "cell_type": "code",
   "execution_count": 15,
   "metadata": {},
   "outputs": [
    {
     "data": {
      "text/plain": [
       "array(-2.86)"
      ]
     },
     "execution_count": 15,
     "metadata": {},
     "output_type": "execute_result"
    }
   ],
   "source": [
    "compute_minhyd(protein_analysis)"
   ]
  },
  {
   "cell_type": "code",
   "execution_count": 16,
   "metadata": {},
   "outputs": [
    {
     "data": {
      "text/plain": [
       "array(0.94)"
      ]
     },
     "execution_count": 16,
     "metadata": {},
     "output_type": "execute_result"
    }
   ],
   "source": [
    "compute_maxhyd(protein_analysis)"
   ]
  },
  {
   "cell_type": "code",
   "execution_count": 17,
   "metadata": {},
   "outputs": [
    {
     "data": {
      "text/plain": [
       "array(-1.16363636)"
      ]
     },
     "execution_count": 17,
     "metadata": {},
     "output_type": "execute_result"
    }
   ],
   "source": [
    "compute_totalhyd(protein_analysis)"
   ]
  },
  {
   "cell_type": "code",
   "execution_count": 18,
   "metadata": {},
   "outputs": [
    {
     "data": {
      "text/plain": [
       "5.77911376953125"
      ]
     },
     "execution_count": 18,
     "metadata": {},
     "output_type": "execute_result"
    }
   ],
   "source": [
    "compute_iso(protein_analysis)"
   ]
  },
  {
   "cell_type": "code",
   "execution_count": 19,
   "metadata": {},
   "outputs": [],
   "source": [
    "def describe_peptide(x):\n",
    "    peptide = x\n",
    "    protein_analysis = ProteinAnalysis(peptide)\n",
    "    minhyd=compute_minhyd(protein_analysis)\n",
    "    maxhyd=compute_maxhyd(protein_analysis)\n",
    "    medianhyd=compute_medianhyd(protein_analysis)\n",
    "    totalhyd=compute_totalhyd(protein_analysis)\n",
    "    mass=compute_mass(protein_analysis)\n",
    "    iso=compute_iso(protein_analysis)\n",
    "    length=len(x)\n",
    "\n",
    "    return ','.join([peptide,str(minhyd), str(maxhyd),str(medianhyd),str(totalhyd), str(mass),str(iso),str(length)])\n",
    "\n",
    "lines =list(map(describe_peptide,sorted(initial_set)))"
   ]
  },
  {
   "cell_type": "code",
   "execution_count": 20,
   "metadata": {},
   "outputs": [],
   "source": [
    "with open('unique-peptides-properties-table.csv', 'w') as f:\n",
    "    f.writelines(['peptide,minhyd,maxhyd,medianhyd,totalhyd,mass,iso,length\\n'])\n",
    "    f.writelines(['{}\\n'.format(line) for line in lines])"
   ]
  },
  {
   "cell_type": "code",
   "execution_count": null,
   "metadata": {},
   "outputs": [],
   "source": []
  }
 ],
 "metadata": {
  "kernelspec": {
   "display_name": "Python 3",
   "language": "python",
   "name": "python3"
  },
  "language_info": {
   "codemirror_mode": {
    "name": "ipython",
    "version": 3
   },
   "file_extension": ".py",
   "mimetype": "text/x-python",
   "name": "python",
   "nbconvert_exporter": "python",
   "pygments_lexer": "ipython3",
   "version": "3.7.0"
  }
 },
 "nbformat": 4,
 "nbformat_minor": 2
}
