{
 "cells": [
  {
   "cell_type": "markdown",
   "metadata": {},
   "source": [
    "# 1. Load sequences"
   ]
  },
  {
   "cell_type": "code",
   "execution_count": 1,
   "metadata": {},
   "outputs": [
    {
     "data": {
      "text/plain": [
       "185"
      ]
     },
     "execution_count": 1,
     "metadata": {},
     "output_type": "execute_result"
    }
   ],
   "source": [
    "import pandas as pd\n",
    "spreadsheet = pd.read_excel('PeptideTower-Viruses.xlsx')\n",
    "remove_line_breaks = lambda seq : ''.join(seq.split())\n",
    "given_sequences = list(map(remove_line_breaks, list(spreadsheet['Sequence'])))\n",
    "len(given_sequences)"
   ]
  },
  {
   "cell_type": "code",
   "execution_count": 2,
   "metadata": {},
   "outputs": [
    {
     "data": {
      "text/plain": [
       "{'X', '`'}"
      ]
     },
     "execution_count": 2,
     "metadata": {},
     "output_type": "execute_result"
    }
   ],
   "source": [
    "# any non-standard characters?\n",
    "standard_amino_acids = set(list('AGILPVFWYDERHKSTCMNQ'))\n",
    "standard_amino_acids.symmetric_difference(set(''.join(given_sequences)))"
   ]
  },
  {
   "cell_type": "code",
   "execution_count": 3,
   "metadata": {},
   "outputs": [
    {
     "data": {
      "text/plain": [
       "3"
      ]
     },
     "execution_count": 3,
     "metadata": {},
     "output_type": "execute_result"
    }
   ],
   "source": [
    "# how many sequences contain non-standard characters?\n",
    "len([seq for seq in given_sequences if ('`' in seq or 'X' in seq)])"
   ]
  },
  {
   "cell_type": "code",
   "execution_count": 4,
   "metadata": {},
   "outputs": [
    {
     "data": {
      "text/plain": [
       "182"
      ]
     },
     "execution_count": 4,
     "metadata": {},
     "output_type": "execute_result"
    }
   ],
   "source": [
    "# let's keep the 182 that don't have non-standard characters...\n",
    "sequences = [seq for seq in given_sequences if ('`' not in seq and 'X' not in seq)]\n",
    "len(sequences)"
   ]
  },
  {
   "cell_type": "markdown",
   "metadata": {},
   "source": [
    "# 2. Extract list of unique k-mers"
   ]
  },
  {
   "cell_type": "code",
   "execution_count": 5,
   "metadata": {},
   "outputs": [],
   "source": [
    "from collections import defaultdict\n",
    "def extract_unique_k_mers(sequences, k=10):\n",
    "    \"\"\"Return a dictionary of the unique k-mers and how many times each k-mer occurred\"\"\"\n",
    "    s = defaultdict(lambda: 0)\n",
    "    for sequence in sequences:\n",
    "        for i in range(len(sequence) - k):\n",
    "            subsequence = sequence[i:i+k]\n",
    "            s[subsequence] += 1\n",
    "    return s"
   ]
  },
  {
   "cell_type": "code",
   "execution_count": 6,
   "metadata": {},
   "outputs": [
    {
     "name": "stdout",
     "output_type": "stream",
     "text": [
      "CPU times: user 41.3 ms, sys: 4.61 ms, total: 45.9 ms\n",
      "Wall time: 44.9 ms\n"
     ]
    }
   ],
   "source": [
    "%%time\n",
    "unique_10_mers = extract_unique_k_mers(sequences, k=10)"
   ]
  },
  {
   "cell_type": "code",
   "execution_count": 7,
   "metadata": {},
   "outputs": [
    {
     "data": {
      "text/plain": [
       "(72678, {1, 2, 3, 4, 5, 6, 7})"
      ]
     },
     "execution_count": 7,
     "metadata": {},
     "output_type": "execute_result"
    }
   ],
   "source": [
    "len(unique_10_mers), set(unique_10_mers.values())"
   ]
  },
  {
   "cell_type": "markdown",
   "metadata": {},
   "source": [
    "# 3. Write to csv"
   ]
  },
  {
   "cell_type": "code",
   "execution_count": 8,
   "metadata": {},
   "outputs": [],
   "source": [
    "tuples = [(kmer, unique_10_mers[kmer]) for kmer in unique_10_mers.keys()]\n",
    "tuples = sorted(tuples, key=lambda t:t[1], reverse=True)\n",
    "lines = ['{},{}'.format(kmer, occurrences) for (kmer, occurrences) in tuples]\n",
    "with open('unique_10_mers_present', 'w') as f:\n",
    "    f.writelines(['kmer,occurrences\\n'])\n",
    "    f.writelines(['{}\\n'.format(line) for line in lines])"
   ]
  },
  {
   "cell_type": "code",
   "execution_count": null,
   "metadata": {},
   "outputs": [],
   "source": []
  }
 ],
 "metadata": {
  "kernelspec": {
   "display_name": "Python 3",
   "language": "python",
   "name": "python3"
  },
  "language_info": {
   "codemirror_mode": {
    "name": "ipython",
    "version": 3
   },
   "file_extension": ".py",
   "mimetype": "text/x-python",
   "name": "python",
   "nbconvert_exporter": "python",
   "pygments_lexer": "ipython3",
   "version": "3.7.0"
  }
 },
 "nbformat": 4,
 "nbformat_minor": 2
}
