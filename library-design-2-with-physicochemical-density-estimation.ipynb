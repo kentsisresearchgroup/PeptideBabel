{
 "cells": [
  {
   "cell_type": "markdown",
   "metadata": {},
   "source": [
    "Relative to `library-design-draft.ipynb`, this notebook adds:\n",
    "* Replacement of min-based and mean-based similarity scores with a KDE-based score. This has the added benefit of not requiring us to tune a temperature parameter.\n",
    "* hydrophobicity\n",
    "\n",
    "This notebook removes:\n",
    "* The sections on trying to optimize an entire library at once, rather than sampling peptides individually. (The whole-library-at-a-time approach I was considering is clearly infeasible for the size of library we desire, which is in the millions of peptides.)\n",
    "* Use of \"aromaticity\" and \"molecular weight\" features, and also \"flexibility\" feature.\n",
    "\n",
    "To-do in the next iteration:\n",
    "* Sliding-window secondary-structure propensity features\n",
    "* Sequence complexity features"
   ]
  },
  {
   "cell_type": "markdown",
   "metadata": {},
   "source": [
    "Requirements:\n",
    "* `matplotlib`\n",
    "* `numpy`\n",
    "* `scipy` (fast pairwise distances)\n",
    "* `sklearn`\n",
    "* `pandas`\n",
    "* `Biopython`\n",
    "* `tqdm` (progress bars)"
   ]
  },
  {
   "cell_type": "code",
   "execution_count": 1,
   "metadata": {},
   "outputs": [],
   "source": [
    "import matplotlib.pyplot as plt\n",
    "import numpy as np\n",
    "\n",
    "%matplotlib inline"
   ]
  },
  {
   "cell_type": "markdown",
   "metadata": {},
   "source": [
    "# 1. Load reference CPPs"
   ]
  },
  {
   "cell_type": "code",
   "execution_count": 2,
   "metadata": {},
   "outputs": [
    {
     "name": "stdout",
     "output_type": "stream",
     "text": [
      "len(initial_set): 2000\n",
      "len(nonredundant_set): 2000\n",
      "some peptides contained the following nonstandard characters: []\n",
      "len(reference_set):  2000\n"
     ]
    },
    {
     "name": "stderr",
     "output_type": "stream",
     "text": [
      "C:\\Users\\mcneern\\AppData\\Local\\Continuum\\miniconda3\\lib\\site-packages\\pandas\\io\\excel.py:329: FutureWarning: The `sheetname` keyword is deprecated, use `sheet_name` instead\n",
      "  **kwds)\n"
     ]
    }
   ],
   "source": [
    "standard_amino_acids = list('AGILPVFWYDERHKSTCMNQ')\n",
    "\n",
    "# loading reference set from spreadsheet provided by NM (from CPPsite2.0)\n",
    "# then removing sequences containing any nonstandard-looking characters\n",
    "import pandas as pd\n",
    "path_to_spreadsheet = 'CPPsitelist.xlsx'\n",
    "initial_set = list(pd.read_excel(path_to_spreadsheet, sheetname=0, header=None)[0])\n",
    "print('len(initial_set):', len(initial_set))\n",
    "# remove redundancies\n",
    "nonredundant_set = sorted(list(set(initial_set)))\n",
    "print('len(nonredundant_set):', len(nonredundant_set))\n",
    "# remove any sequences containing nonstandard characters (e.g. wildcards)\n",
    "print('some peptides contained the following nonstandard characters:',\n",
    "      sorted(list(set(list(''.join(nonredundant_set))).difference(standard_amino_acids))))\n",
    "is_valid = lambda seq : (sum([aa in standard_amino_acids for aa in set(seq)]) / len(set(seq))) == 1\n",
    "for seq in nonredundant_set:\n",
    "    if not is_valid(seq):\n",
    "        print('\\t{}'.format(seq))\n",
    "reference_set = [seq for seq in nonredundant_set if is_valid(seq)]\n",
    "print('len(reference_set): ', len(reference_set))"
   ]
  },
  {
   "cell_type": "markdown",
   "metadata": {},
   "source": [
    "**To-do:** make this initial filter less stringent!"
   ]
  },
  {
   "cell_type": "markdown",
   "metadata": {},
   "source": [
    "# 2. Exploratory analysis of properties of the reference set"
   ]
  },
  {
   "cell_type": "code",
   "execution_count": 3,
   "metadata": {},
   "outputs": [
    {
     "name": "stdout",
     "output_type": "stream",
     "text": [
      "min(peptide_lengths), max(peptide_lengths): (28, 36)\n"
     ]
    }
   ],
   "source": [
    "peptide_lengths = list(map(len, reference_set))\n",
    "\n",
    "print('min(peptide_lengths), max(peptide_lengths):', (min(peptide_lengths), max(peptide_lengths)))"
   ]
  },
  {
   "cell_type": "code",
   "execution_count": 4,
   "metadata": {},
   "outputs": [
    {
     "data": {
      "image/png": "[encoded data removed]",
      "text/plain": [
       "<Figure size 432x288 with 1 Axes>"
      ]
     },
     "metadata": {
      "needs_background": "light"
     },
     "output_type": "display_data"
    }
   ],
   "source": [
    "counts = np.bincount(peptide_lengths)\n",
    "\n",
    "plt.bar(range(len(counts)), counts)\n",
    "plt.xlabel('peptide length')\n",
    "plt.ylabel('# occurrences')\n",
    "\n",
    "plt.title('distribution of peptide lengths')\n",
    "\n",
    "plt.savefig('tat-barcode-peptide-lengths.png',dpi=300)"
   ]
  },
  {
   "cell_type": "code",
   "execution_count": 5,
   "metadata": {},
   "outputs": [
    {
     "data": {
      "text/plain": [
       "10"
      ]
     },
     "execution_count": 5,
     "metadata": {},
     "output_type": "execute_result"
    }
   ],
   "source": [
    "observed_lengths = np.argwhere(counts).flatten()\n",
    "len(observed_lengths)"
   ]
  },
  {
   "cell_type": "code",
   "execution_count": 6,
   "metadata": {},
   "outputs": [],
   "source": [
    "from Bio.SeqUtils.ProtParam import ProteinAnalysis, ProtParamData\n",
    "ProtParamData?"
   ]
  },
  {
   "cell_type": "markdown",
   "metadata": {},
   "source": [
    "## 2.1. Computing hydrophobicity"
   ]
  },
  {
   "cell_type": "markdown",
   "metadata": {},
   "source": [
    "Requires picking a hydrophobicity scale. Commonly used ones are listed in a table on: https://www.biob.in/2014/05/hydrophobicity-plot-using-biopython.html"
   ]
  },
  {
   "cell_type": "code",
   "execution_count": 7,
   "metadata": {},
   "outputs": [],
   "source": [
    "kyte_doolittle_scale = { 'A': 1.8,'R':-4.5,'N':-3.5,'D':-3.5,'C': 2.5,\n",
    "       'Q':-3.5,'E':-3.5,'G':-0.4,'H':-3.2,'I': 4.5,\n",
    "       'L': 3.8,'K':-3.9,'M': 1.9,'F': 2.8,'P':-1.6,\n",
    "       'S':-0.8,'T':-0.7,'W':-0.9,'Y':-1.3,'V': 4.2 }"
   ]
  },
  {
   "cell_type": "code",
   "execution_count": 8,
   "metadata": {},
   "outputs": [
    {
     "data": {
      "text/plain": [
       "32"
      ]
     },
     "execution_count": 8,
     "metadata": {},
     "output_type": "execute_result"
    }
   ],
   "source": [
    "peptide = reference_set[100]\n",
    "len(peptide)"
   ]
  },
  {
   "cell_type": "code",
   "execution_count": null,
   "metadata": {},
   "outputs": [],
   "source": []
  },
  {
   "cell_type": "code",
   "execution_count": 9,
   "metadata": {},
   "outputs": [],
   "source": [
    "protein_analysis = ProteinAnalysis(peptide)"
   ]
  },
  {
   "cell_type": "code",
   "execution_count": 10,
   "metadata": {},
   "outputs": [
    {
     "data": {
      "text/plain": [
       "[-2.8,\n",
       " -3.44,\n",
       " -4.26,\n",
       " -4.0600000000000005,\n",
       " -4.18,\n",
       " -4.3,\n",
       " -4.3,\n",
       " -3.4799999999999995,\n",
       " -3.6799999999999997,\n",
       " -2.42,\n",
       " -1.1600000000000001,\n",
       " -0.4200000000000001,\n",
       " -0.4200000000000001,\n",
       " 1.24,\n",
       " 0.18,\n",
       " -0.36,\n",
       " -0.2800000000000001,\n",
       " 0.15999999999999995,\n",
       " -0.6799999999999999,\n",
       " -0.06000000000000001,\n",
       " -0.78,\n",
       " -0.34,\n",
       " -1.34,\n",
       " -1.9,\n",
       " -2.46,\n",
       " -2.2,\n",
       " -3.2,\n",
       " -3.2]"
      ]
     },
     "execution_count": 10,
     "metadata": {},
     "output_type": "execute_result"
    }
   ],
   "source": [
    "protein_analysis.protein_scale(kyte_doolittle_scale, window=5)"
   ]
  },
  {
   "cell_type": "markdown",
   "metadata": {},
   "source": [
    "Okay, to summarize this into fixed-size feature vector, regardless of peptide length, I think we might want to select the most and least hydrophobic regions?"
   ]
  },
  {
   "cell_type": "code",
   "execution_count": 11,
   "metadata": {},
   "outputs": [],
   "source": [
    "def compute_hydrophobicity_features(protein_analysis, window=5):\n",
    "    \"\"\"Return the hydrophobicity of the most and least hydrophobic regions\"\"\"\n",
    "    \n",
    "    window = min(window, len(protein_analysis.sequence))\n",
    "    hydrophobicity_windows = protein_analysis.protein_scale(kyte_doolittle_scale, window=window)\n",
    "    \n",
    "    return np.array([min(hydrophobicity_windows), np.median(hydrophobicity_windows), max(hydrophobicity_windows)])"
   ]
  },
  {
   "cell_type": "code",
   "execution_count": 12,
   "metadata": {},
   "outputs": [
    {
     "data": {
      "text/plain": [
       "array([-4.3 , -2.05,  1.24])"
      ]
     },
     "execution_count": 12,
     "metadata": {},
     "output_type": "execute_result"
    }
   ],
   "source": [
    "compute_hydrophobicity_features(protein_analysis)"
   ]
  },
  {
   "cell_type": "markdown",
   "metadata": {},
   "source": [
    "## 2.2. [to-do] Computing sliding window substructure propensities"
   ]
  },
  {
   "cell_type": "markdown",
   "metadata": {},
   "source": [
    "[To-do!]"
   ]
  },
  {
   "cell_type": "markdown",
   "metadata": {},
   "source": [
    "## 2.3. Plotting predicted physicochemical properties"
   ]
  },
  {
   "cell_type": "code",
   "execution_count": 13,
   "metadata": {},
   "outputs": [],
   "source": [
    "n_ref = len(reference_set)\n",
    "isoelectric_points = np.zeros((n_ref, 1))\n",
    "secondary_structure_fractions = np.zeros((n_ref, 3))\n",
    "hydrophobicity_features = np.zeros((n_ref, 3))\n",
    "\n",
    "for i in range(n_ref):\n",
    "    analysis_object = ProteinAnalysis(reference_set[i])\n",
    "    \n",
    "    # compute properties\n",
    "    isoelectric_points[i] = analysis_object.isoelectric_point()\n",
    "    secondary_structure_fractions[i] = analysis_object.secondary_structure_fraction()\n",
    "    hydrophobicity_features[i] = compute_hydrophobicity_features(analysis_object)"
   ]
  },
  {
   "cell_type": "code",
   "execution_count": 14,
   "metadata": {},
   "outputs": [],
   "source": [
    "concatenated_features = np.hstack([\n",
    "    isoelectric_points,\n",
    "    secondary_structure_fractions,\n",
    "    hydrophobicity_features,\n",
    "])\n",
    "\n",
    "long_feature_names = [\n",
    "    'isoelectric point (Bjellqvist, 1993-1994)',\n",
    "    'fraction helical',\n",
    "    'fraction turn-like',\n",
    "    'fraction sheet-like',\n",
    "    'least-hydrophobic window',\n",
    "    'median of hydrophobic windows',\n",
    "    'most-hydrophobic window',\n",
    "]\n",
    "\n",
    "feature_names = [\n",
    "    'isoelectric point',\n",
    "    'fraction helical',\n",
    "    'fraction turn-like',\n",
    "    'fraction sheet-like',\n",
    "    'least-hydrophobic window',\n",
    "    'median of hydrophobic windows',\n",
    "    'most-hydrophobic window',\n",
    "]\n",
    "n_features = concatenated_features.shape[1]"
   ]
  },
  {
   "cell_type": "code",
   "execution_count": 24,
   "metadata": {
    "scrolled": false
   },
   "outputs": [
    {
     "data": {
      "image/png": "[encoded data removed]",
      "text/plain": [
       "<Figure size 432x288 with 1 Axes>"
      ]
     },
     "metadata": {
      "needs_background": "light"
     },
     "output_type": "display_data"
    },
    {
     "data": {
      "image/png": "[encoded data removed]",
      "text/plain": [
       "<Figure size 432x288 with 1 Axes>"
      ]
     },
     "metadata": {
      "needs_background": "light"
     },
     "output_type": "display_data"
    },
    {
     "data": {
      "image/png": "[encoded data removed]",
      "text/plain": [
       "<Figure size 432x288 with 1 Axes>"
      ]
     },
     "metadata": {
      "needs_background": "light"
     },
     "output_type": "display_data"
    },
    {
     "data": {
      "image/png": "[encoded data removed]",
      "text/plain": [
       "<Figure size 432x288 with 1 Axes>"
      ]
     },
     "metadata": {
      "needs_background": "light"
     },
     "output_type": "display_data"
    },
    {
     "data": {
      "image/png": "[encoded data removed]",
      "text/plain": [
       "<Figure size 432x288 with 1 Axes>"
      ]
     },
     "metadata": {
      "needs_background": "light"
     },
     "output_type": "display_data"
    },
    {
     "data": {
      "image/png": "[encoded data removed]",
      "text/plain": [
       "<Figure size 432x288 with 1 Axes>"
      ]
     },
     "metadata": {
      "needs_background": "light"
     },
     "output_type": "display_data"
    },
    {
     "data": {
      "image/png": "[encoded data removed]",
      "text/plain": [
       "<Figure size 432x288 with 1 Axes>"
      ]
     },
     "metadata": {
      "needs_background": "light"
     },
     "output_type": "display_data"
    }
   ],
   "source": [
    "for i in range(n_features):\n",
    "    plt.figure()\n",
    "    feature = concatenated_features[:,i]\n",
    "    \n",
    "    plt.hist(feature[np.isfinite(feature)], bins=50);\n",
    "    plt.title(long_feature_names[i])\n",
    "    plt.xlabel(feature_names[i])\n",
    "    plt.ylabel('occurences in reference set')"
   ]
  },
  {
   "cell_type": "code",
   "execution_count": 15,
   "metadata": {},
   "outputs": [
    {
     "name": "stdout",
     "output_type": "stream",
     "text": [
      "['isoelectric point', 'fraction helical', 'fraction turn-like', 'fraction sheet-like', 'least-hydrophobic window', 'median of hydrophobic windows', 'most-hydrophobic window']\n"
     ]
    }
   ],
   "source": [
    "feature_inds = np.arange(len(feature_names))\n",
    "X_unscaled = concatenated_features[:, feature_inds]\n",
    "included_features = [feature_names[i] for i in feature_inds]\n",
    "print(included_features)"
   ]
  },
  {
   "cell_type": "code",
   "execution_count": 26,
   "metadata": {},
   "outputs": [
    {
     "data": {
      "text/plain": [
       "<matplotlib.collections.PathCollection at 0xa575c88>"
      ]
     },
     "execution_count": 26,
     "metadata": {},
     "output_type": "execute_result"
    },
    {
     "data": {
      "image/png": "[encoded data removed]",
      "text/plain": [
       "<Figure size 432x288 with 1 Axes>"
      ]
     },
     "metadata": {
      "needs_background": "light"
     },
     "output_type": "display_data"
    },
    {
     "data": {
      "image/png": "[encoded data removed]",
      "text/plain": [
       "<Figure size 432x288 with 1 Axes>"
      ]
     },
     "metadata": {
      "needs_background": "light"
     },
     "output_type": "display_data"
    }
   ],
   "source": [
    "plt.hexbin(hydrophobicity_features[:,0], hydrophobicity_features[:,1], cmap='Blues', bins='log')\n",
    "plt.figure()\n",
    "plt.scatter(hydrophobicity_features[:,0], hydrophobicity_features[:,1])"
   ]
  },
  {
   "cell_type": "code",
   "execution_count": 27,
   "metadata": {},
   "outputs": [
    {
     "data": {
      "text/plain": [
       "<matplotlib.collections.PathCollection at 0xa53e0f0>"
      ]
     },
     "execution_count": 27,
     "metadata": {},
     "output_type": "execute_result"
    },
    {
     "data": {
      "image/png": "[encoded data removed]",
      "text/plain": [
       "<Figure size 432x288 with 1 Axes>"
      ]
     },
     "metadata": {
      "needs_background": "light"
     },
     "output_type": "display_data"
    },
    {
     "data": {
      "image/png": "[encoded data removed]",
      "text/plain": [
       "<Figure size 432x288 with 1 Axes>"
      ]
     },
     "metadata": {
      "needs_background": "light"
     },
     "output_type": "display_data"
    }
   ],
   "source": [
    "plt.hexbin(hydrophobicity_features[:,1], hydrophobicity_features[:,2], cmap='Blues', bins='log')\n",
    "plt.figure()\n",
    "plt.scatter(hydrophobicity_features[:,1], hydrophobicity_features[:,2])"
   ]
  },
  {
   "cell_type": "markdown",
   "metadata": {},
   "source": [
    "## 2.4. [to-do] Look at sequence properties of reference CPPs (e.g. motifs)"
   ]
  },
  {
   "cell_type": "markdown",
   "metadata": {},
   "source": [
    "# 3. Defining a physicochemically-based distance metric\n",
    "\n",
    "Note that these physicochemical properties can have different scales, so if we use raw Euclidean distance on these features, then we'll more strongly penalize violations of whichever feature has the biggest scale..."
   ]
  },
  {
   "cell_type": "code",
   "execution_count": 28,
   "metadata": {},
   "outputs": [
    {
     "name": "stdout",
     "output_type": "stream",
     "text": [
      "stdev(isoelectric point) = 0.000\n",
      "stdev(fraction helical) = 0.029\n",
      "stdev(fraction turn-like) = 0.027\n",
      "stdev(fraction sheet-like) = 0.035\n",
      "stdev(least-hydrophobic window) = 0.000\n",
      "stdev(median of hydrophobic windows) = 0.010\n",
      "stdev(most-hydrophobic window) = 0.797\n"
     ]
    }
   ],
   "source": [
    "for i in range(len(included_features)):  print('stdev({}) = {:.3f}'.format(included_features[i], np.std(X_unscaled[:,i])))"
   ]
  },
  {
   "cell_type": "markdown",
   "metadata": {},
   "source": [
    "We'll find a projection of these features that's likely to be \"better-behaved,\" i.e. treat each property as equally important. Later, we might want to weight the features differently, but initially we don't want the feature importances to be determined just by differences in units..."
   ]
  },
  {
   "cell_type": "code",
   "execution_count": 29,
   "metadata": {},
   "outputs": [
    {
     "data": {
      "text/plain": [
       "PCA(copy=True, iterated_power='auto', n_components=None, random_state=None,\n",
       "  svd_solver='auto', tol=0.0, whiten=True)"
      ]
     },
     "execution_count": 29,
     "metadata": {},
     "output_type": "execute_result"
    }
   ],
   "source": [
    "from sklearn.decomposition import PCA\n",
    "pca = PCA(whiten=True)\n",
    "pca.fit(X_unscaled)"
   ]
  },
  {
   "cell_type": "code",
   "execution_count": 30,
   "metadata": {},
   "outputs": [
    {
     "data": {
      "text/plain": [
       "([<matplotlib.axis.YTick at 0x8c59320>,\n",
       "  <matplotlib.axis.YTick at 0x8c59f28>,\n",
       "  <matplotlib.axis.YTick at 0x94c8400>,\n",
       "  <matplotlib.axis.YTick at 0x8b847f0>],\n",
       " <a list of 4 Text yticklabel objects>)"
      ]
     },
     "execution_count": 30,
     "metadata": {},
     "output_type": "execute_result"
    },
    {
     "data": {
      "image/png": "[encoded data removed]",
      "text/plain": [
       "<Figure size 432x288 with 1 Axes>"
      ]
     },
     "metadata": {
      "needs_background": "light"
     },
     "output_type": "display_data"
    }
   ],
   "source": [
    "plt.bar(np.arange(X_unscaled.shape[1]) + 1, np.cumsum(pca.explained_variance_ratio_))\n",
    "plt.ylim(0,1)\n",
    "plt.xlabel('# components included')\n",
    "plt.ylabel('cumulative explained variance ratio')\n",
    "plt.yticks([0,0.5,0.9, 1])"
   ]
  },
  {
   "cell_type": "markdown",
   "metadata": {},
   "source": [
    "Okay so it looks like we can get away with 2 components just fine. 2 components is better so we can visualize"
   ]
  },
  {
   "cell_type": "code",
   "execution_count": 31,
   "metadata": {},
   "outputs": [
    {
     "data": {
      "text/plain": [
       "array([0.99744572, 0.99744572])"
      ]
     },
     "execution_count": 31,
     "metadata": {},
     "output_type": "execute_result"
    }
   ],
   "source": [
    "pca = PCA(n_components=2, whiten=True)\n",
    "pca.fit(X_unscaled)\n",
    "X_scaled = pca.transform(X_unscaled)\n",
    "np.std(X_scaled, 0)"
   ]
  },
  {
   "cell_type": "code",
   "execution_count": 32,
   "metadata": {},
   "outputs": [
    {
     "name": "stderr",
     "output_type": "stream",
     "text": [
      "C:\\Users\\mcneern\\AppData\\Local\\Continuum\\miniconda3\\lib\\site-packages\\ipykernel_launcher.py:1: RuntimeWarning: divide by zero encountered in log\n",
      "  \"\"\"Entry point for launching an IPython kernel.\n"
     ]
    },
    {
     "data": {
      "image/png": "[encoded data removed]",
      "text/plain": [
       "<Figure size 432x288 with 2 Axes>"
      ]
     },
     "metadata": {
      "needs_background": "light"
     },
     "output_type": "display_data"
    }
   ],
   "source": [
    "plt.imshow(np.log(np.abs(pca.get_covariance())), cmap='Blues')\n",
    "plt.colorbar()\n",
    "\n",
    "plt.title('log(abs(cov(features)))')\n",
    "\n",
    "plt.xticks(range(len(feature_names)), feature_names, rotation=90);\n",
    "plt.yticks(range(len(feature_names)), feature_names);"
   ]
  },
  {
   "cell_type": "code",
   "execution_count": 33,
   "metadata": {},
   "outputs": [],
   "source": [
    "def predict_properties(sequence):\n",
    "    \"\"\"return a vector of physicochemical properties\"\"\"\n",
    "    protein_analysis = ProteinAnalysis(sequence)\n",
    "    \n",
    "    properties = np.zeros(len(included_features))\n",
    "    properties[0] = protein_analysis.isoelectric_point()\n",
    "    properties[1:4] = protein_analysis.secondary_structure_fraction()\n",
    "    properties[4:7] = compute_hydrophobicity_features(protein_analysis)\n",
    "    return properties"
   ]
  },
  {
   "cell_type": "code",
   "execution_count": 34,
   "metadata": {},
   "outputs": [
    {
     "data": {
      "text/plain": [
       "['isoelectric point',\n",
       " 'fraction helical',\n",
       " 'fraction turn-like',\n",
       " 'fraction sheet-like',\n",
       " 'least-hydrophobic window',\n",
       " 'median of hydrophobic windows',\n",
       " 'most-hydrophobic window']"
      ]
     },
     "execution_count": 34,
     "metadata": {},
     "output_type": "execute_result"
    }
   ],
   "source": [
    "feature_names"
   ]
  },
  {
   "cell_type": "code",
   "execution_count": 35,
   "metadata": {},
   "outputs": [],
   "source": [
    "def project(properties):\n",
    "    \"\"\"project a vector of properties into space where we expect the Euclidean distance between\n",
    "    the vectors to be more meaningful than Euclidean distance between the raw property fectors\"\"\"\n",
    "    if len(properties.shape) == 1:\n",
    "        return pca.transform(properties.reshape((1, len(properties)))).flatten()\n",
    "    else:\n",
    "        return pca.transform(properties)"
   ]
  },
  {
   "cell_type": "code",
   "execution_count": 36,
   "metadata": {},
   "outputs": [
    {
     "data": {
      "text/plain": [
       "(array([12.4800415 ,  0.17241379,  0.13793103,  0.13793103, -4.3       ,\n",
       "        -2.42      ,  2.16      ]), array([-0.81488739,  0.41553656]))"
      ]
     },
     "execution_count": 36,
     "metadata": {},
     "output_type": "execute_result"
    }
   ],
   "source": [
    "seq = reference_set[0]\n",
    "predict_properties(seq), project(predict_properties(seq))"
   ]
  },
  {
   "cell_type": "markdown",
   "metadata": {},
   "source": [
    "# 4. Exploratory analysis using this physicochemical distance metric"
   ]
  },
  {
   "cell_type": "code",
   "execution_count": 37,
   "metadata": {},
   "outputs": [
    {
     "data": {
      "text/plain": [
       "<matplotlib.colorbar.Colorbar at 0x8d51c18>"
      ]
     },
     "execution_count": 37,
     "metadata": {},
     "output_type": "execute_result"
    },
    {
     "data": {
      "image/png": "[encoded data removed]",
      "text/plain": [
       "<Figure size 432x288 with 2 Axes>"
      ]
     },
     "metadata": {
      "needs_background": "light"
     },
     "output_type": "display_data"
    }
   ],
   "source": [
    "plt.scatter(X_scaled[:,0], X_scaled[:,1], s=1, c=isoelectric_points.flatten())\n",
    "plt.title('colored by isoelectric point')\n",
    "plt.xlabel('PC1')\n",
    "plt.ylabel('PC2')\n",
    "plt.colorbar()"
   ]
  },
  {
   "cell_type": "code",
   "execution_count": 38,
   "metadata": {},
   "outputs": [
    {
     "data": {
      "text/plain": [
       "<matplotlib.colorbar.Colorbar at 0x8d0c358>"
      ]
     },
     "execution_count": 38,
     "metadata": {},
     "output_type": "execute_result"
    },
    {
     "data": {
      "image/png": "[encoded data removed]",
      "text/plain": [
       "<Figure size 432x288 with 2 Axes>"
      ]
     },
     "metadata": {
      "needs_background": "light"
     },
     "output_type": "display_data"
    }
   ],
   "source": [
    "plt.scatter(X_scaled[:,0], X_scaled[:,1], s=1, c=hydrophobicity_features[:,1])\n",
    "plt.title('colored by median hydrophobicity')\n",
    "plt.xlabel('PC1')\n",
    "plt.ylabel('PC2')\n",
    "plt.colorbar()"
   ]
  },
  {
   "cell_type": "code",
   "execution_count": 39,
   "metadata": {},
   "outputs": [],
   "source": [
    "from scipy.spatial.distance import cdist, pdist, squareform\n",
    "ref_dist_matrix = squareform(pdist(X_scaled))"
   ]
  },
  {
   "cell_type": "code",
   "execution_count": 40,
   "metadata": {},
   "outputs": [
    {
     "data": {
      "text/plain": [
       "SpectralBiclustering(init='k-means++', method='bistochastic',\n",
       "           mini_batch=False, n_best=3, n_clusters=20, n_components=6,\n",
       "           n_init=10, n_jobs=None, n_svd_vecs=None, random_state=None,\n",
       "           svd_method='arpack')"
      ]
     },
     "execution_count": 40,
     "metadata": {},
     "output_type": "execute_result"
    }
   ],
   "source": [
    "from sklearn.cluster import SpectralBiclustering\n",
    "spec_clust = SpectralBiclustering(n_clusters=20, svd_method='arpack')\n",
    "spec_clust.fit(ref_dist_matrix)"
   ]
  },
  {
   "cell_type": "code",
   "execution_count": 41,
   "metadata": {},
   "outputs": [],
   "source": [
    "inds = np.argsort(spec_clust.column_labels_)"
   ]
  },
  {
   "cell_type": "code",
   "execution_count": 42,
   "metadata": {},
   "outputs": [
    {
     "data": {
      "text/plain": [
       "Text(0, 0.5, 'reference peptide')"
      ]
     },
     "execution_count": 42,
     "metadata": {},
     "output_type": "execute_result"
    },
    {
     "data": {
      "image/png": "[encoded data removed]",
      "text/plain": [
       "<Figure size 432x288 with 2 Axes>"
      ]
     },
     "metadata": {
      "needs_background": "light"
     },
     "output_type": "display_data"
    }
   ],
   "source": [
    "plt.imshow(ref_dist_matrix[inds][:,inds], cmap='Blues')\n",
    "plt.colorbar()\n",
    "\n",
    "plt.title('physicochemical distances among reference CPPs')\n",
    "plt.xlabel('reference peptide')\n",
    "plt.ylabel('reference peptide')"
   ]
  },
  {
   "cell_type": "markdown",
   "metadata": {},
   "source": [
    "# 5. Estimate density in the feature projection\n",
    "\n",
    "Where is CPPSite concentrated?"
   ]
  },
  {
   "cell_type": "code",
   "execution_count": null,
   "metadata": {},
   "outputs": [],
   "source": [
    "X_scaled.shape"
   ]
  },
  {
   "cell_type": "code",
   "execution_count": null,
   "metadata": {},
   "outputs": [],
   "source": [
    "from sklearn.neighbors import KernelDensity\n",
    "kernel = 'exponential'"
   ]
  },
  {
   "cell_type": "code",
   "execution_count": null,
   "metadata": {},
   "outputs": [],
   "source": [
    "bandwidths = np.logspace(-3,2,num=100)"
   ]
  },
  {
   "cell_type": "code",
   "execution_count": null,
   "metadata": {},
   "outputs": [],
   "source": [
    "from tqdm import tqdm\n",
    "oos_scores = []\n",
    "\n",
    "for bandwidth in tqdm(bandwidths):\n",
    "    kde = KernelDensity(bandwidth=bandwidth, kernel=kernel)\n",
    "    kde.fit(X_scaled[::2])\n",
    "    oos_scores.append(kde.score(X_scaled[1::2]))\n",
    "oos_scores = np.array(oos_scores)"
   ]
  },
  {
   "cell_type": "code",
   "execution_count": null,
   "metadata": {},
   "outputs": [],
   "source": [
    "plt.plot(bandwidths, oos_scores)\n",
    "plt.xscale('log')\n",
    "plt.yscale('symlog')"
   ]
  },
  {
   "cell_type": "code",
   "execution_count": null,
   "metadata": {},
   "outputs": [],
   "source": [
    "optimal_bandwidth = bandwidths[np.argmax(oos_scores)]\n",
    "optimal_bandwidth"
   ]
  },
  {
   "cell_type": "code",
   "execution_count": null,
   "metadata": {},
   "outputs": [],
   "source": []
  },
  {
   "cell_type": "markdown",
   "metadata": {},
   "source": [
    "To-do: Fancier bandwidth selection."
   ]
  },
  {
   "cell_type": "code",
   "execution_count": null,
   "metadata": {},
   "outputs": [],
   "source": [
    "kde = KernelDensity(bandwidth=optimal_bandwidth, kernel=kernel)\n",
    "kde.fit(X_scaled)"
   ]
  },
  {
   "cell_type": "code",
   "execution_count": null,
   "metadata": {},
   "outputs": [],
   "source": [
    "kde.score_samples(X_scaled)"
   ]
  },
  {
   "cell_type": "code",
   "execution_count": null,
   "metadata": {},
   "outputs": [],
   "source": [
    "kde.score_samples([X_scaled[0]])"
   ]
  },
  {
   "cell_type": "code",
   "execution_count": null,
   "metadata": {},
   "outputs": [],
   "source": [
    "# let's visualize the KDE on a grid?\n",
    "\n",
    "num=200\n",
    "pad = 0.4\n",
    "x = np.linspace(X_scaled[:,0].min() - pad, X_scaled[:,0].max() + pad, num)\n",
    "y = np.linspace(X_scaled[:,1].min() - pad, X_scaled[:,1].max() + pad, num)\n",
    "\n",
    "X, Y = np.meshgrid(x, y)"
   ]
  },
  {
   "cell_type": "code",
   "execution_count": null,
   "metadata": {},
   "outputs": [],
   "source": [
    "grid = np.array([X.flatten(), Y.flatten()]).T\n",
    "Z = kde.score_samples(grid).flatten().reshape((num, num))"
   ]
  },
  {
   "cell_type": "code",
   "execution_count": null,
   "metadata": {},
   "outputs": [],
   "source": [
    "plt.contourf(X, Y, np.exp(Z), cmap='Blues')\n",
    "plt.colorbar()\n",
    "#plt.scatter(X_scaled[:,0], X_scaled[:,1], s=1)"
   ]
  },
  {
   "cell_type": "code",
   "execution_count": null,
   "metadata": {},
   "outputs": [],
   "source": [
    "plt.contourf(X, Y, Z, cmap='Blues', levels=np.linspace(np.min(Z[np.isfinite(Z)]), np.max(Z), 20))\n",
    "plt.colorbar()\n",
    "#plt.scatter(X_scaled[:,0], X_scaled[:,1], s=1)"
   ]
  },
  {
   "cell_type": "code",
   "execution_count": null,
   "metadata": {},
   "outputs": [],
   "source": [
    "np.min(Z)"
   ]
  },
  {
   "cell_type": "code",
   "execution_count": null,
   "metadata": {},
   "outputs": [],
   "source": [
    "plt.contourf(X, Y, np.exp(Z), cmap='Blues')\n",
    "plt.scatter(X_scaled[:,0], X_scaled[:,1], s=1)"
   ]
  },
  {
   "cell_type": "markdown",
   "metadata": {},
   "source": [
    "# 6. Design peptide libraries by sampling"
   ]
  },
  {
   "cell_type": "markdown",
   "metadata": {},
   "source": [
    "## 6.1. Define objectives, and a scoring function based on these objectives"
   ]
  },
  {
   "cell_type": "code",
   "execution_count": null,
   "metadata": {},
   "outputs": [],
   "source": [
    "def kde_based_ref_similarity_for_single_peptide(peptide):\n",
    "    y = project(predict_properties(peptide))\n",
    "    return kde.score_samples([y])[0]\n",
    "\n",
    "\n",
    "def similarity_to_reference_set(list_of_sequences):\n",
    "    \"\"\"evalute similarity between the properties of list_of_sequences and the reference CPPs\"\"\"\n",
    "    predicted_properties = np.vstack([predict_properties(seq) for seq in list_of_sequences])\n",
    "    Y_scaled = project(predicted_properties)\n",
    "    return kde.score_samples(Y_scaled)\n",
    "\n",
    "def score_library(list_of_sequences):\n",
    "    return np.mean(similarity_to_reference_set(list_of_sequences))"
   ]
  },
  {
   "cell_type": "markdown",
   "metadata": {},
   "source": [
    "## 6.2. Examine distribution of scores for random libraries of varying peptide length"
   ]
  },
  {
   "cell_type": "code",
   "execution_count": null,
   "metadata": {},
   "outputs": [],
   "source": [
    "sample_random_peptide = lambda length : ''.join(np.random.choice(standard_amino_acids, size=length))"
   ]
  },
  {
   "cell_type": "code",
   "execution_count": null,
   "metadata": {},
   "outputs": [],
   "source": [
    "from tqdm import tqdm\n",
    "\n",
    "random_scores = []\n",
    "lengths = [3,5,10,20]\n",
    "\n",
    "n_samples = 10000\n",
    "\n",
    "for length in lengths:\n",
    "    scores = similarity_to_reference_set([sample_random_peptide(length=length) for _ in range(n_samples)])\n",
    "    random_scores.append(scores)"
   ]
  },
  {
   "cell_type": "code",
   "execution_count": null,
   "metadata": {},
   "outputs": [],
   "source": [
    "for i in range(len(random_scores)):\n",
    "    plt.hist(random_scores[i], bins=20, alpha=0.5, label=str(lengths[i]));\n",
    "plt.legend(title='peptide length')\n",
    "plt.xlabel('score')\n",
    "plt.ylabel('probability density')\n",
    "plt.yticks([])"
   ]
  },
  {
   "cell_type": "markdown",
   "metadata": {},
   "source": [
    "### 6.2.1. Plot histograms of scores for each of the lengths of peptides from CPPSite"
   ]
  },
  {
   "cell_type": "code",
   "execution_count": null,
   "metadata": {
    "scrolled": false
   },
   "outputs": [],
   "source": [
    "for length in observed_lengths:\n",
    "    allowed_peptides = [peptide for peptide in reference_set if len(peptide) == length]\n",
    "    if len(allowed_peptides) > 50:\n",
    "        label = str(length)\n",
    "        plt.hist(similarity_to_reference_set(allowed_peptides), label=label, alpha=0.5, density=True)\n",
    "plt.legend()"
   ]
  },
  {
   "cell_type": "markdown",
   "metadata": {},
   "source": [
    "## 6.3. Define a sampling algorithm"
   ]
  },
  {
   "cell_type": "markdown",
   "metadata": {},
   "source": [
    "### 6.3.1. Define symmetric proposal kernels\n",
    "Design some proposal kernels $p(\\cdot | x)$, where $p(y | x) = p(x | y)$ for all $x,y$, so that the acceptance criterion is convenient / less error-prone."
   ]
  },
  {
   "cell_type": "code",
   "execution_count": null,
   "metadata": {},
   "outputs": [],
   "source": [
    "def symmetric_one_site_mutate(sequence_string):\n",
    "    ind_to_mutate = np.random.randint(len(sequence_string))\n",
    "    residue_to_insert = standard_amino_acids[np.random.randint(len(standard_amino_acids))]\n",
    "    \n",
    "    sequence_as_list = list(sequence_string)\n",
    "    sequence_as_list[ind_to_mutate] = residue_to_insert\n",
    "    return ''.join(sequence_as_list)"
   ]
  },
  {
   "cell_type": "markdown",
   "metadata": {},
   "source": [
    "### 6.3.2. Implement random-walk Metropolis-Hastings"
   ]
  },
  {
   "cell_type": "code",
   "execution_count": null,
   "metadata": {},
   "outputs": [],
   "source": [
    "def random_walk_mh(x0, log_prob_func, symmetric_proposal_func, n_steps=1000):\n",
    "    \"\"\"Random-walk Metropolis-Hastings\n",
    "    \n",
    "    Parameters\n",
    "    ----------\n",
    "    x0 : object\n",
    "        initial state of sampler\n",
    "    log_prob_func : callable, accepts an object like x0 and returns a float\n",
    "        unnormalized log probability density function\n",
    "    symmetric_proposal_func : callable, accepts an object like x0 and returns another object like x0\n",
    "        assume this samples from a symmetric proposal distribution (p(y|x) = p(x|y))\n",
    "    n_steps : integer\n",
    "        number of MCMC steps\n",
    "    \n",
    "    Returns\n",
    "    -------\n",
    "    traj : [n_steps + 1] list of objects\n",
    "        trajectory of samples generated by MCMC\n",
    "    log_probs : [n_steps + 1] array of floats\n",
    "        unnormalized log-probabilities of the samples\n",
    "    acceptance_fraction : float in [0,1]\n",
    "        fraction of accepted proposals\n",
    "    \"\"\"\n",
    "    traj = [x0]\n",
    "    log_probs = [log_prob_func(x0)]\n",
    "\n",
    "    acceptances = 0\n",
    "    r = range(n_steps)\n",
    "    trange = tqdm(r)\n",
    "    for n in trange:\n",
    "\n",
    "        x_proposal = symmetric_proposal_func(traj[-1])\n",
    "        log_prob_proposal = log_prob_func(x_proposal)\n",
    "\n",
    "        if np.random.rand() < np.exp(log_prob_proposal - log_probs[-1]):\n",
    "            traj.append(x_proposal)\n",
    "            log_probs.append(log_prob_proposal)\n",
    "            acceptances += 1\n",
    "        else:\n",
    "            traj.append(traj[-1])\n",
    "            log_probs.append(log_probs[-1])\n",
    "\n",
    "        trange.set_postfix({'log_prob': log_probs[-1], 'accept_fraction': float(acceptances) / (1 + n)})\n",
    "    del (trange)\n",
    "\n",
    "    return traj, np.array(log_probs), float(acceptances) / n_steps"
   ]
  },
  {
   "cell_type": "markdown",
   "metadata": {},
   "source": [
    "### 6.3.3. [to-do] Define asymmetric proposal kernels\n",
    "To improve efficiency, we may wish to define asymmetric proposal kernels."
   ]
  },
  {
   "cell_type": "markdown",
   "metadata": {},
   "source": [
    "### 6.3.4. [to-do] Define length-changing proposal kernels\n",
    "We may wish to increase or decrease the length of the peptides on the fly."
   ]
  },
  {
   "cell_type": "markdown",
   "metadata": {},
   "source": [
    "## 6.4. Run random walk Metropolis-Hastings to sample individual peptides\n",
    "\n",
    "Interpreting the score as a log probability."
   ]
  },
  {
   "cell_type": "code",
   "execution_count": null,
   "metadata": {},
   "outputs": [],
   "source": [
    "x0 = sample_random_peptide(length=5)"
   ]
  },
  {
   "cell_type": "code",
   "execution_count": null,
   "metadata": {},
   "outputs": [],
   "source": [
    "peptides, scores, acceptance_rate = random_walk_mh(x0,\n",
    "               log_prob_func=kde_based_ref_similarity_for_single_peptide,\n",
    "               symmetric_proposal_func=symmetric_one_site_mutate,\n",
    "               n_steps=50000,\n",
    "              )"
   ]
  },
  {
   "cell_type": "code",
   "execution_count": null,
   "metadata": {},
   "outputs": [],
   "source": [
    "plt.hist(random_scores[1], bins=50, alpha=0.5, density=True, label='random');\n",
    "plt.hist(scores[1000:], bins=50, alpha=0.5, density=True, label='MCMC-sampled');\n",
    "plt.legend(loc='best')"
   ]
  },
  {
   "cell_type": "code",
   "execution_count": null,
   "metadata": {},
   "outputs": [],
   "source": [
    "plt.plot(scores)\n",
    "plt.xlabel('iteration')\n",
    "plt.ylabel('score')\n",
    "plt.title('KDE-based similarity to reference CPPs')"
   ]
  },
  {
   "cell_type": "code",
   "execution_count": null,
   "metadata": {},
   "outputs": [],
   "source": [
    "peptides[:5], peptides[-5:]"
   ]
  },
  {
   "cell_type": "code",
   "execution_count": null,
   "metadata": {},
   "outputs": [],
   "source": [
    "change_points = peptides[0] == peptides[1]"
   ]
  },
  {
   "cell_type": "markdown",
   "metadata": {},
   "source": [
    "## 6.5. Analysis: How diverse were the peptides we generated?"
   ]
  },
  {
   "cell_type": "code",
   "execution_count": null,
   "metadata": {},
   "outputs": [],
   "source": [
    "initial_discard = 1000"
   ]
  },
  {
   "cell_type": "code",
   "execution_count": null,
   "metadata": {},
   "outputs": [],
   "source": [
    "peptides_ = peptides[initial_discard:]"
   ]
  },
  {
   "cell_type": "code",
   "execution_count": null,
   "metadata": {},
   "outputs": [],
   "source": [
    "len(set(peptides_)), len(set(peptides_)) / len(peptides_)"
   ]
  },
  {
   "cell_type": "code",
   "execution_count": null,
   "metadata": {},
   "outputs": [],
   "source": [
    "unique_peptides = sorted(list(set(peptides_)))\n",
    "unique_peptides[:5]"
   ]
  },
  {
   "cell_type": "code",
   "execution_count": null,
   "metadata": {},
   "outputs": [],
   "source": [
    "peptide_index = dict(zip(unique_peptides, list(range(len(unique_peptides)))))"
   ]
  },
  {
   "cell_type": "code",
   "execution_count": null,
   "metadata": {},
   "outputs": [],
   "source": [
    "dtraj = np.array([peptide_index[peptide] for peptide in peptides_], dtype=np.int)"
   ]
  },
  {
   "cell_type": "code",
   "execution_count": null,
   "metadata": {},
   "outputs": [],
   "source": [
    "taus = list(range(100))\n",
    "acf = [1]\n",
    "for i in taus[1:]:\n",
    "    acf.append(np.sum((dtraj[:-i] == dtraj[i:])) / len(dtraj[i:]))"
   ]
  },
  {
   "cell_type": "code",
   "execution_count": null,
   "metadata": {},
   "outputs": [],
   "source": [
    "def hamming_distance(peptide_1, peptide_2):\n",
    "    return sum([peptide_1[i] != peptide_2[i] for i in range(len(peptide_1))])"
   ]
  },
  {
   "cell_type": "code",
   "execution_count": null,
   "metadata": {},
   "outputs": [],
   "source": [
    "hamming_distance(peptides_[0], peptides_[1000])"
   ]
  },
  {
   "cell_type": "markdown",
   "metadata": {},
   "source": [
    "## 6.5.1. Bonus: Evaluate correlation times from this trajectory"
   ]
  },
  {
   "cell_type": "code",
   "execution_count": null,
   "metadata": {},
   "outputs": [],
   "source": [
    "plt.plot(taus, acf)\n",
    "plt.ylim(0,1)\n",
    "#plt.xscale('log')\n",
    "#plt.yscale('log')\n",
    "plt.xlabel(r'$\\tau$ (number of MCMC steps)')\n",
    "plt.ylabel('autocorrelation (identity)')\n",
    "plt.yticks([0,1])\n",
    "plt.xlim(0,)"
   ]
  },
  {
   "cell_type": "code",
   "execution_count": null,
   "metadata": {},
   "outputs": [],
   "source": [
    "taus = list(range(1000))\n",
    "distance_acf = [0]\n",
    "\n",
    "distance_distributions = [np.zeros(len(peptides_))]\n",
    "\n",
    "for tau in tqdm(taus[1:]):\n",
    "    \n",
    "    distances = np.array([hamming_distance(peptides_[t], peptides_[t+tau]) for t in range(len(peptides_[tau:]))])\n",
    "    distance_distributions.append(distances)\n",
    "    \n",
    "    distance_acf.append(np.mean(distances))"
   ]
  },
  {
   "cell_type": "code",
   "execution_count": null,
   "metadata": {},
   "outputs": [],
   "source": [
    "dmat = np.vstack([d[:len(distance_distributions[-1])] for d in distance_distributions])\n",
    "dmat.shape"
   ]
  },
  {
   "cell_type": "code",
   "execution_count": null,
   "metadata": {
    "scrolled": true
   },
   "outputs": [],
   "source": [
    "#alpha = \n",
    "\n",
    "plt.plot(taus, distance_acf)\n",
    "\n",
    "lb = distance_acf - 1.96 * np.std(dmat, 1)\n",
    "ub = np.minimum(5, distance_acf + 1.96 * np.std(dmat, 1))\n",
    "\n",
    "plt.fill_between(taus, lb, ub, alpha=0.5)\n",
    "\n",
    "plt.hlines(len(peptides_[0]), 0, max(taus))\n",
    "\n",
    "plt.xlabel(r'$\\tau$ (number of MCMC steps)')\n",
    "plt.ylabel('average Hamming distance\\n' + r'between iterate $t$ and iterate $t + \\tau$ ')"
   ]
  },
  {
   "cell_type": "markdown",
   "metadata": {},
   "source": [
    "## 6.5.2. Analysis: how similar are these to the closest things in the reference set?"
   ]
  },
  {
   "cell_type": "code",
   "execution_count": null,
   "metadata": {},
   "outputs": [],
   "source": [
    "len5_reference_peptides = [peptide for peptide in reference_set if len(peptide) == 5]"
   ]
  },
  {
   "cell_type": "code",
   "execution_count": null,
   "metadata": {},
   "outputs": [],
   "source": [
    "len(len5_reference_peptides)"
   ]
  },
  {
   "cell_type": "code",
   "execution_count": null,
   "metadata": {},
   "outputs": [],
   "source": [
    "print(sorted(len5_reference_peptides))"
   ]
  },
  {
   "cell_type": "code",
   "execution_count": null,
   "metadata": {},
   "outputs": [],
   "source": [
    "hamming_distances_to_reference = np.zeros((len(unique_peptides), len(len5_reference_peptides)))\n",
    "\n",
    "for i in range(hamming_distances_to_reference.shape[0]):\n",
    "    for j in range(hamming_distances_to_reference.shape[1]):\n",
    "        hamming_distances_to_reference[i,j] = hamming_distance(unique_peptides[i], len5_reference_peptides[j])"
   ]
  },
  {
   "cell_type": "code",
   "execution_count": null,
   "metadata": {},
   "outputs": [],
   "source": [
    "plt.bar(range(6), np.bincount(np.min(hamming_distances_to_reference, 1).astype(np.int)))\n",
    "plt.xlabel('Hamming distance to most similar reference peptide of same length')\n",
    "plt.ylabel('# unique peptides sampled')"
   ]
  },
  {
   "cell_type": "markdown",
   "metadata": {},
   "source": [
    "### 6.5.3. Bonus: construct a PAM matrix from this trajectory\n",
    "\n",
    "Initially, averaging over all positions.\n",
    "\n",
    "To-do: Don't average over all positions within the peptide."
   ]
  },
  {
   "cell_type": "code",
   "execution_count": null,
   "metadata": {},
   "outputs": [],
   "source": [
    "aa_dict = dict(zip(standard_amino_acids, range(len(standard_amino_acids))))"
   ]
  },
  {
   "cell_type": "code",
   "execution_count": null,
   "metadata": {},
   "outputs": [],
   "source": [
    "transition_count_matrix = np.zeros((len(aa_dict), len(aa_dict)))\n",
    "\n",
    "tau = 200\n",
    "for t in range(len(peptides_[tau:])):\n",
    "    for (a, b) in zip(peptides_[t], peptides_[t+tau]):\n",
    "        transition_count_matrix[aa_dict[a], aa_dict[b]] += 1"
   ]
  },
  {
   "cell_type": "code",
   "execution_count": null,
   "metadata": {},
   "outputs": [],
   "source": [
    "plt.imshow(transition_count_matrix, cmap='Blues', )\n",
    "plt.xticks(range(len(aa_dict)), standard_amino_acids);\n",
    "plt.yticks(range(len(aa_dict)), standard_amino_acids);"
   ]
  },
  {
   "cell_type": "code",
   "execution_count": null,
   "metadata": {},
   "outputs": [],
   "source": [
    "# row normalize\n",
    "P = (transition_count_matrix.T / transition_count_matrix.sum(1)).T\n",
    "P.sum(1)"
   ]
  },
  {
   "cell_type": "code",
   "execution_count": null,
   "metadata": {},
   "outputs": [],
   "source": [
    "plt.imshow(P, cmap='Blues', )\n",
    "plt.xticks(range(len(aa_dict)), standard_amino_acids);\n",
    "plt.yticks(range(len(aa_dict)), standard_amino_acids);"
   ]
  },
  {
   "cell_type": "code",
   "execution_count": null,
   "metadata": {},
   "outputs": [],
   "source": [
    "len5_result = (peptides, scores, acceptance_rate)"
   ]
  },
  {
   "cell_type": "markdown",
   "metadata": {},
   "source": [
    "## 6.6. Repeat this for 20-mers"
   ]
  },
  {
   "cell_type": "code",
   "execution_count": null,
   "metadata": {},
   "outputs": [],
   "source": [
    "x0 = sample_random_peptide(length=20)\n",
    "peptides, scores, acceptance_rate = random_walk_mh(x0,\n",
    "               log_prob_func=kde_based_ref_similarity_for_single_peptide,\n",
    "               symmetric_proposal_func=symmetric_one_site_mutate,\n",
    "               n_steps=100000,\n",
    "              )"
   ]
  },
  {
   "cell_type": "code",
   "execution_count": null,
   "metadata": {},
   "outputs": [],
   "source": [
    "\n",
    "plt.hist(random_scores[-1], bins=20, alpha=0.5, density=True, label='random');\n",
    "plt.hist(scores[1000:], bins=50, alpha=0.5, density=True, label='MCMC-sampled');\n",
    "plt.legend(loc='best')"
   ]
  },
  {
   "cell_type": "code",
   "execution_count": null,
   "metadata": {},
   "outputs": [],
   "source": [
    "peptides_ = peptides[initial_discard:]\n",
    "len(set(peptides_)), len(set(peptides_)) / len(peptides_)"
   ]
  },
  {
   "cell_type": "code",
   "execution_count": null,
   "metadata": {},
   "outputs": [],
   "source": [
    "transition_count_matrix = np.zeros((len(aa_dict), len(aa_dict)))\n",
    "\n",
    "tau = 200\n",
    "for t in range(len(peptides_[tau:])):\n",
    "    for (a, b) in zip(peptides_[t], peptides_[t+tau]):\n",
    "        transition_count_matrix[aa_dict[a], aa_dict[b]] += 1\n",
    "# row normalize\n",
    "P = (transition_count_matrix.T / transition_count_matrix.sum(1)).T"
   ]
  },
  {
   "cell_type": "code",
   "execution_count": null,
   "metadata": {},
   "outputs": [],
   "source": [
    "plt.imshow(P, cmap='Blues', )\n",
    "plt.xticks(range(len(aa_dict)), standard_amino_acids);\n",
    "plt.yticks(range(len(aa_dict)), standard_amino_acids);\n",
    "\n",
    "plt.colorbar()"
   ]
  },
  {
   "cell_type": "code",
   "execution_count": null,
   "metadata": {},
   "outputs": [],
   "source": [
    "len20_reference_peptides = [peptide for peptide in reference_set if len(peptide) == 20]\n",
    "len(len20_reference_peptides)"
   ]
  },
  {
   "cell_type": "code",
   "execution_count": null,
   "metadata": {},
   "outputs": [],
   "source": [
    "unique_peptides = sorted(list(set(peptides_)))\n",
    "unique_peptides[:5]"
   ]
  },
  {
   "cell_type": "code",
   "execution_count": null,
   "metadata": {},
   "outputs": [],
   "source": [
    "hamming_distances_to_reference = np.zeros((len(unique_peptides), len(len20_reference_peptides)))\n",
    "\n",
    "for i in range(hamming_distances_to_reference.shape[0]):\n",
    "    for j in range(hamming_distances_to_reference.shape[1]):\n",
    "        hamming_distances_to_reference[i,j] = hamming_distance(unique_peptides[i], len20_reference_peptides[j])"
   ]
  },
  {
   "cell_type": "code",
   "execution_count": 10,
   "metadata": {},
   "outputs": [
    {
     "ename": "NameError",
     "evalue": "name 'hamming_distances_to_reference' is not defined",
     "output_type": "error",
     "traceback": [
      "\u001b[1;31m---------------------------------------------------------------------------\u001b[0m",
      "\u001b[1;31mNameError\u001b[0m                                 Traceback (most recent call last)",
      "\u001b[1;32m<ipython-input-10-fd6edb135f00>\u001b[0m in \u001b[0;36m<module>\u001b[1;34m\u001b[0m\n\u001b[1;32m----> 1\u001b[1;33m \u001b[0mcounts\u001b[0m \u001b[1;33m=\u001b[0m \u001b[0mnp\u001b[0m\u001b[1;33m.\u001b[0m\u001b[0mbincount\u001b[0m\u001b[1;33m(\u001b[0m\u001b[0mnp\u001b[0m\u001b[1;33m.\u001b[0m\u001b[0mmin\u001b[0m\u001b[1;33m(\u001b[0m\u001b[0mhamming_distances_to_reference\u001b[0m\u001b[1;33m,\u001b[0m \u001b[1;36m1\u001b[0m\u001b[1;33m)\u001b[0m\u001b[1;33m.\u001b[0m\u001b[0mastype\u001b[0m\u001b[1;33m(\u001b[0m\u001b[0mnp\u001b[0m\u001b[1;33m.\u001b[0m\u001b[0mint\u001b[0m\u001b[1;33m)\u001b[0m\u001b[1;33m)\u001b[0m\u001b[1;33m\u001b[0m\u001b[0m\n\u001b[0m",
      "\u001b[1;31mNameError\u001b[0m: name 'hamming_distances_to_reference' is not defined"
     ]
    }
   ],
   "source": [
    "counts = np.bincount(np.min(hamming_distances_to_reference, 1).astype(np.int))"
   ]
  },
  {
   "cell_type": "code",
   "execution_count": null,
   "metadata": {},
   "outputs": [],
   "source": [
    "plt.bar(range(len(counts)), counts)\n",
    "plt.xlabel('Hamming distance to most similar reference peptide of same length')\n",
    "plt.ylabel('# unique peptides sampled')"
   ]
  },
  {
   "cell_type": "code",
   "execution_count": null,
   "metadata": {},
   "outputs": [],
   "source": [
    "unique_bags_of_amino_acids = sorted(list(set([''.join(sorted(peptide)) for peptide in peptides_])))\n",
    "\n",
    "hamming_distances_to_reference = np.zeros((len(unique_bags_of_amino_acids), len(len20_reference_peptides)))\n",
    "\n",
    "for i in range(hamming_distances_to_reference.shape[0]):\n",
    "    for j in range(hamming_distances_to_reference.shape[1]):\n",
    "        hamming_distances_to_reference[i,j] = hamming_distance(unique_bags_of_amino_acids[i], ''.join(sorted(len20_reference_peptides[j])))"
   ]
  },
  {
   "cell_type": "code",
   "execution_count": null,
   "metadata": {},
   "outputs": [],
   "source": [
    "sorted_counts = np.bincount(np.min(hamming_distances_to_reference, 1).astype(np.int))\n",
    "\n",
    "plt.bar(range(len(counts)), counts, alpha=0.5, label='Hamming distance (order-dependent)')\n",
    "plt.bar(range(len(sorted_counts)), sorted_counts, alpha=0.5, label='AA composition only')\n",
    "plt.xlabel('distance to most similar reference peptide of same length')\n",
    "plt.ylabel('# unique peptides sampled')\n",
    "plt.legend(loc='best')"
   ]
  },
  {
   "cell_type": "code",
   "execution_count": null,
   "metadata": {},
   "outputs": [],
   "source": [
    "predicted_properties = np.vstack([predict_properties(seq) for seq in tqdm(peptides)])\n",
    "Y_scaled = project(predicted_properties)"
   ]
  },
  {
   "cell_type": "code",
   "execution_count": null,
   "metadata": {},
   "outputs": [],
   "source": [
    "peptides[0]"
   ]
  },
  {
   "cell_type": "code",
   "execution_count": null,
   "metadata": {},
   "outputs": [],
   "source": [
    "compute_hydrophobicity_features(ProteinAnalysis(peptide))"
   ]
  },
  {
   "cell_type": "code",
   "execution_count": null,
   "metadata": {
    "scrolled": false
   },
   "outputs": [],
   "source": [
    "for i in range(len(feature_names)):\n",
    "    plt.figure()\n",
    "    plt.plot(predicted_properties[:,i])\n",
    "    plt.ylabel(feature_names[i])\n",
    "    plt.xlabel('MCMC iteration')"
   ]
  },
  {
   "cell_type": "code",
   "execution_count": null,
   "metadata": {},
   "outputs": [],
   "source": [
    "feature_names"
   ]
  },
  {
   "cell_type": "code",
   "execution_count": null,
   "metadata": {},
   "outputs": [],
   "source": [
    "plt.plot(Y_scaled[:,0], Y_scaled[:,1])"
   ]
  },
  {
   "cell_type": "code",
   "execution_count": null,
   "metadata": {},
   "outputs": [],
   "source": [
    "plt.plot(Y_scaled[:,0])"
   ]
  },
  {
   "cell_type": "code",
   "execution_count": null,
   "metadata": {},
   "outputs": [],
   "source": [
    "plt.plot(Y_scaled[:,1])"
   ]
  },
  {
   "cell_type": "code",
   "execution_count": null,
   "metadata": {},
   "outputs": [],
   "source": [
    "plt.scatter(X_scaled[:,0], X_scaled[:,1], s=1, label='reference')\n",
    "plt.scatter(Y_scaled[:,0], Y_scaled[:,1], s=0.1, label='generated')\n",
    "plt.xlabel('PC1')\n",
    "plt.ylabel('PC2')\n",
    "plt.legend()"
   ]
  },
  {
   "cell_type": "markdown",
   "metadata": {},
   "source": [
    "# 7. Next steps"
   ]
  },
  {
   "cell_type": "markdown",
   "metadata": {},
   "source": [
    "## 7.1. Stratified sampling\n",
    "JDC suggests to sample bands of increasing distance from the reference CPPs."
   ]
  },
  {
   "cell_type": "code",
   "execution_count": null,
   "metadata": {},
   "outputs": [],
   "source": [
    "def in_distance_band(x, r_min, r_max):\n",
    "    \"\"\"return True if x is between r_min and r_max of at least one reference CPP\"\"\"\n",
    "    pass\n",
    "    \n",
    "def stratified_objective(sequence, r_min, r_max):\n",
    "    \"\"\"return -inf if outside of (r_min, r_max) band, else return usual objective(sequence)\"\"\"\n",
    "    pass"
   ]
  },
  {
   "cell_type": "markdown",
   "metadata": {},
   "source": [
    "# 8. Bonus: making it faster\n",
    "\n",
    "If speed becomes an important limitation, we might improve efficiency by:\n",
    "\n",
    "* Vectorizing interpreter-bound loops\n",
    "* Optimizing proposal distribution (e.g. making it non-uniform or asymmetric)"
   ]
  },
  {
   "cell_type": "markdown",
   "metadata": {},
   "source": [
    "## 8.1 Timing"
   ]
  },
  {
   "cell_type": "code",
   "execution_count": 11,
   "metadata": {},
   "outputs": [
    {
     "name": "stdout",
     "output_type": "stream",
     "text": [
      "Wall time: 0 ns\n"
     ]
    }
   ],
   "source": [
    "%%time\n",
    "seq = reference_set[0]\n",
    "\n",
    "protein_analysis = ProteinAnalysis(seq)\n",
    "protein_analysis.isoelectric_point()"
   ]
  },
  {
   "cell_type": "code",
   "execution_count": 12,
   "metadata": {},
   "outputs": [
    {
     "ename": "NameError",
     "evalue": "name 'score_library' is not defined",
     "output_type": "error",
     "traceback": [
      "\u001b[1;31m---------------------------------------------------------------------------\u001b[0m",
      "\u001b[1;31mNameError\u001b[0m                                 Traceback (most recent call last)",
      "\u001b[1;32m<timed eval>\u001b[0m in \u001b[0;36m<module>\u001b[1;34m\u001b[0m\n",
      "\u001b[1;31mNameError\u001b[0m: name 'score_library' is not defined"
     ]
    }
   ],
   "source": [
    "%%time\n",
    "score_library(trial_library)"
   ]
  },
  {
   "cell_type": "code",
   "execution_count": null,
   "metadata": {},
   "outputs": [],
   "source": []
  }
 ],
 "metadata": {
  "kernelspec": {
   "display_name": "Python 3",
   "language": "python",
   "name": "python3"
  },
  "language_info": {
   "codemirror_mode": {
    "name": "ipython",
    "version": 3
   },
   "file_extension": ".py",
   "mimetype": "text/x-python",
   "name": "python",
   "nbconvert_exporter": "python",
   "pygments_lexer": "ipython3",
   "version": "3.7.0"
  }
 },
 "nbformat": 4,
 "nbformat_minor": 2
}
