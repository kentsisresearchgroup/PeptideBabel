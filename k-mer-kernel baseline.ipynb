{
 "cells": [
  {
   "cell_type": "code",
   "execution_count": 1,
   "metadata": {},
   "outputs": [],
   "source": [
    "import matplotlib.pyplot as plt\n",
    "import numpy as np\n",
    "\n",
    "%matplotlib inline"
   ]
  },
  {
   "cell_type": "code",
   "execution_count": 2,
   "metadata": {},
   "outputs": [
    {
     "name": "stdout",
     "output_type": "stream",
     "text": [
      "len(initial_set): 1552\n",
      "len(nonredundant_set): 1186\n",
      "some peptides contained the following nonstandard characters: ['-', '5', '8', 'B', 'X', 'Z', 'f', 'h', 'm', 'x']\n",
      "\tAVPAKKRZKSV\n",
      "\tCGNVVRQGC-G-YGRK-KRRQRRR-G-TALDWSWLQTE\n",
      "\tCGRKKRRQR-Ahx-RRPPQ\n",
      "\tCGRKKRRQRR-Ahx-RPPQ\n",
      "\tCREKA-KKLFKKILKKL\n",
      "\tEEEEEEEEEE-PLGLAG-VSRRRRRRGGRRRR\n",
      "\tELVVLGKL-YGRKKRRQRRR\n",
      "\tGRKKRRERRRPPERKCX\n",
      "\tHEHEHEHEHE-PEG-PLA\n",
      "\tHGWZIHGLLHRA\n",
      "\tISF-R8-ELLDYY-S5-ED\n",
      "\tISF-R8-ELLDYY-S5-ESGS\n",
      "\tISF-R8-EWLQAY-S5-EDE\n",
      "\tLVVLGKL-YGRKKRRQRRR\n",
      "\tPKKKRKV-AGYLLGKINLKALAALAKKIL-PQMQQNVFQYPGAGMVPQGEANF\n",
      "\tPKKKRKV-RRRRRRR-PQMQQNVFQYPGAGMVPQGEANF\n",
      "\tPKKKRKV-RRRRRRR-YSQTSHKLVQLLTTAEQQ\n",
      "\tRGDfK\n",
      "\tRGRGRGRGRG-PEG-PLA\n",
      "\tRRRRRRRR-RGD\n",
      "\tSQMTRQARRLYBGC\n",
      "\tVVLGKL-YGRKKRRQRRR\n",
      "\tWE-YGRKKRRQRRR\n",
      "\tWEAVVA-YGRKKRRQRRR\n",
      "\tWEAVVL-YGRKKRRQRRR\n",
      "\tWEL-YGRKKRRQRRR\n",
      "\tWELV-YGRKKRRQRRR\n",
      "\tWELVV-YGRKKRRQRRR\n",
      "\tWELVVA-YGRKKRRQRRR\n",
      "\tWELVVL-YGRKKRRQRRR\n",
      "\tWELVVLG-YGRKKRRQRRR\n",
      "\tWELVVLGK-YGRKKRRQRRR\n",
      "\tWELVVLGKL-YGRKKRRQRRR\n",
      "\tYGRKKRRQRRR-C\n",
      "\tYKQCHKKGGXKKGSG\n",
      "\tmPEG-PLA-HEHEHEHEHE\n",
      "\tmPEG-PLA-RGRGRGRGRG\n",
      "len(reference_set):  1149\n"
     ]
    }
   ],
   "source": [
    "standard_amino_acids = list('AGILPVFWYDERHKSTCMNQ')\n",
    "\n",
    "# loading reference set from spreadsheet provided by NM (from CPPsite2.0)\n",
    "# then removing sequences containing any nonstandard-looking characters\n",
    "import pandas as pd\n",
    "path_to_spreadsheet = 'seed CPPs.xlsx'\n",
    "initial_set = list(pd.read_excel(path_to_spreadsheet, sheetname=0, header=None)[0])\n",
    "print('len(initial_set):', len(initial_set))\n",
    "# remove redundancies\n",
    "nonredundant_set = sorted(list(set(initial_set)))\n",
    "print('len(nonredundant_set):', len(nonredundant_set))\n",
    "# remove any sequences containing nonstandard characters (e.g. wildcards)\n",
    "print('some peptides contained the following nonstandard characters:',\n",
    "      sorted(list(set(list(''.join(nonredundant_set))).difference(standard_amino_acids))))\n",
    "is_valid = lambda seq : (sum([aa in standard_amino_acids for aa in set(seq)]) / len(set(seq))) == 1\n",
    "for seq in nonredundant_set:\n",
    "    if not is_valid(seq):\n",
    "        print('\\t{}'.format(seq))\n",
    "reference_set = [seq for seq in nonredundant_set if is_valid(seq)]\n",
    "print('len(reference_set): ', len(reference_set))"
   ]
  },
  {
   "cell_type": "code",
   "execution_count": 25,
   "metadata": {},
   "outputs": [
    {
     "name": "stderr",
     "output_type": "stream",
     "text": [
      "100%|██████████| 1149/1149 [00:00<00:00, 197534.75it/s]\n"
     ]
    }
   ],
   "source": [
    "from collections import defaultdict\n",
    "from tqdm import tqdm\n",
    "\n",
    "def count_kmers(sequences, k=3):\n",
    "    kmer_counts = defaultdict(lambda : 0)\n",
    "    for seq in tqdm(sequences):\n",
    "        if len(seq) >= k:\n",
    "            for i in range(len(seq) - k + 1):\n",
    "                kmer_counts[seq[i:i+k]] += 1\n",
    "    return kmer_counts\n",
    "\n",
    "kmer_counts = count_kmers(reference_set, k=3)"
   ]
  },
  {
   "cell_type": "code",
   "execution_count": null,
   "metadata": {},
   "outputs": [],
   "source": []
  },
  {
   "cell_type": "code",
   "execution_count": 26,
   "metadata": {},
   "outputs": [],
   "source": [
    "all_possible_3mers = []\n",
    "for a in standard_amino_acids:\n",
    "    for b in standard_amino_acids:\n",
    "        for c in standard_amino_acids:\n",
    "            all_possible_3mers.append(''.join([a,b,c]))"
   ]
  },
  {
   "cell_type": "code",
   "execution_count": 27,
   "metadata": {},
   "outputs": [
    {
     "data": {
      "text/plain": [
       "8000"
      ]
     },
     "execution_count": 27,
     "metadata": {},
     "output_type": "execute_result"
    }
   ],
   "source": [
    "d = len(all_possible_3mers)\n",
    "d"
   ]
  },
  {
   "cell_type": "code",
   "execution_count": 28,
   "metadata": {},
   "outputs": [],
   "source": [
    "index = dict(zip(all_possible_3mers, range(d)))"
   ]
  },
  {
   "cell_type": "code",
   "execution_count": 29,
   "metadata": {},
   "outputs": [],
   "source": [
    "def project(sequence, k=3):\n",
    "    vector = np.zeros(d)\n",
    "    for i in range(len(sequence) - k + 1):\n",
    "        vector[index[sequence[i:i+k]]] += 1\n",
    "    return vector# / np.sum(vector)"
   ]
  },
  {
   "cell_type": "code",
   "execution_count": 30,
   "metadata": {},
   "outputs": [
    {
     "name": "stdout",
     "output_type": "stream",
     "text": [
      "CPU times: user 34 µs, sys: 8 µs, total: 42 µs\n",
      "Wall time: 39.1 µs\n"
     ]
    },
    {
     "data": {
      "text/plain": [
       "array([1., 0., 0., ..., 0., 0., 0.])"
      ]
     },
     "execution_count": 30,
     "metadata": {},
     "output_type": "execute_result"
    }
   ],
   "source": [
    "%%time\n",
    "project(reference_set[0])"
   ]
  },
  {
   "cell_type": "code",
   "execution_count": 31,
   "metadata": {},
   "outputs": [],
   "source": [
    "kmer_projections = np.array(list(map(project, reference_set)))"
   ]
  },
  {
   "cell_type": "code",
   "execution_count": 32,
   "metadata": {},
   "outputs": [
    {
     "data": {
      "text/plain": [
       "(1149, 8000)"
      ]
     },
     "execution_count": 32,
     "metadata": {},
     "output_type": "execute_result"
    }
   ],
   "source": [
    "kmer_projections.shape"
   ]
  },
  {
   "cell_type": "code",
   "execution_count": 33,
   "metadata": {},
   "outputs": [
    {
     "data": {
      "text/plain": [
       "3259"
      ]
     },
     "execution_count": 33,
     "metadata": {},
     "output_type": "execute_result"
    }
   ],
   "source": [
    "used_dims = (kmer_projections.sum(0) != 0)\n",
    "sum(used_dims)"
   ]
  },
  {
   "cell_type": "code",
   "execution_count": 34,
   "metadata": {},
   "outputs": [],
   "source": [
    "X = kmer_projections[:,used_dims]"
   ]
  },
  {
   "cell_type": "code",
   "execution_count": 35,
   "metadata": {},
   "outputs": [
    {
     "data": {
      "text/plain": [
       "PCA(copy=True, iterated_power='auto', n_components=None, random_state=None,\n",
       "  svd_solver='auto', tol=0.0, whiten=False)"
      ]
     },
     "execution_count": 35,
     "metadata": {},
     "output_type": "execute_result"
    }
   ],
   "source": [
    "from sklearn.decomposition import PCA\n",
    "pca = PCA()\n",
    "pca.fit(X)"
   ]
  },
  {
   "cell_type": "code",
   "execution_count": 36,
   "metadata": {},
   "outputs": [
    {
     "data": {
      "text/plain": [
       "(0, 1)"
      ]
     },
     "execution_count": 36,
     "metadata": {},
     "output_type": "execute_result"
    },
    {
     "data": {
      "image/png": "[encoded data removed]",
      "text/plain": [
       "<Figure size 432x288 with 1 Axes>"
      ]
     },
     "metadata": {},
     "output_type": "display_data"
    }
   ],
   "source": [
    "plt.plot(np.cumsum(pca.explained_variance_ratio_))\n",
    "plt.ylim(0,1)"
   ]
  },
  {
   "cell_type": "code",
   "execution_count": 37,
   "metadata": {},
   "outputs": [],
   "source": [
    "Y = PCA(n_components=2).fit_transform(X)"
   ]
  },
  {
   "cell_type": "code",
   "execution_count": 38,
   "metadata": {},
   "outputs": [
    {
     "data": {
      "text/plain": [
       "<matplotlib.colorbar.Colorbar at 0x111ccb2b0>"
      ]
     },
     "execution_count": 38,
     "metadata": {},
     "output_type": "execute_result"
    },
    {
     "data": {
      "image/png": "[encoded data removed]",
      "text/plain": [
       "<Figure size 432x288 with 2 Axes>"
      ]
     },
     "metadata": {},
     "output_type": "display_data"
    }
   ],
   "source": [
    "plt.scatter(Y[:,0], Y[:,1], c=list(map(len, reference_set)))\n",
    "plt.colorbar()"
   ]
  },
  {
   "cell_type": "code",
   "execution_count": null,
   "metadata": {},
   "outputs": [],
   "source": []
  },
  {
   "cell_type": "code",
   "execution_count": 39,
   "metadata": {},
   "outputs": [
    {
     "name": "stdout",
     "output_type": "stream",
     "text": [
      "CPU times: user 58.3 ms, sys: 56.7 ms, total: 115 ms\n",
      "Wall time: 114 ms\n"
     ]
    },
    {
     "data": {
      "text/plain": [
       "array([0.        , 5.56776436, 4.69041576, ..., 6.78232998, 4.79583152,\n",
       "       3.87298335])"
      ]
     },
     "execution_count": 39,
     "metadata": {},
     "output_type": "execute_result"
    }
   ],
   "source": [
    "%%time\n",
    "np.linalg.norm(kmer_projections - project(reference_set[0]), axis=1)"
   ]
  },
  {
   "cell_type": "code",
   "execution_count": 40,
   "metadata": {},
   "outputs": [
    {
     "data": {
      "image/png": "[encoded data removed]",
      "text/plain": [
       "<Figure size 432x288 with 1 Axes>"
      ]
     },
     "metadata": {},
     "output_type": "display_data"
    }
   ],
   "source": [
    "plt.hist(np.linalg.norm(kmer_projections - project(reference_set[0]), axis=1), bins=50);"
   ]
  },
  {
   "cell_type": "code",
   "execution_count": 41,
   "metadata": {},
   "outputs": [
    {
     "data": {
      "image/png": "[encoded data removed]",
      "text/plain": [
       "<Figure size 432x288 with 1 Axes>"
      ]
     },
     "metadata": {},
     "output_type": "display_data"
    }
   ],
   "source": [
    "plt.hist(np.linalg.norm(kmer_projections - project(reference_set[0]), axis=1), bins=50);"
   ]
  },
  {
   "cell_type": "code",
   "execution_count": 42,
   "metadata": {},
   "outputs": [
    {
     "data": {
      "image/png": "[encoded data removed]",
      "text/plain": [
       "<Figure size 432x288 with 1 Axes>"
      ]
     },
     "metadata": {},
     "output_type": "display_data"
    }
   ],
   "source": [
    "plt.hist(np.linalg.norm(kmer_projections - project('RRRRRRRRRRRRR'), axis=1), bins=50);"
   ]
  },
  {
   "cell_type": "code",
   "execution_count": 43,
   "metadata": {},
   "outputs": [],
   "source": [
    "from scipy.special import logsumexp\n",
    "def score(peptide, sigma=1.0):\n",
    "    distances = np.linalg.norm(kmer_projections - project(peptide), axis=1)\n",
    "    return -logsumexp((distances/sigma**2)**2)"
   ]
  },
  {
   "cell_type": "code",
   "execution_count": 44,
   "metadata": {},
   "outputs": [
    {
     "data": {
      "text/plain": [
       "(8000,)"
      ]
     },
     "execution_count": 44,
     "metadata": {},
     "output_type": "execute_result"
    }
   ],
   "source": [
    "project('AAA').shape"
   ]
  },
  {
   "cell_type": "code",
   "execution_count": 45,
   "metadata": {},
   "outputs": [
    {
     "name": "stdout",
     "output_type": "stream",
     "text": [
      "-526.0\n",
      "-485.0\n",
      "-506.0\n",
      "-508.0\n",
      "-501.0\n",
      "-517.0\n",
      "-557.0\n",
      "-533.0\n",
      "-441.0\n",
      "-505.0\n"
     ]
    }
   ],
   "source": [
    "for _ in range(10):\n",
    "    print('{:.5}'.format(score(reference_set[np.random.randint(len(reference_set))])))"
   ]
  },
  {
   "cell_type": "code",
   "execution_count": 46,
   "metadata": {},
   "outputs": [
    {
     "name": "stdout",
     "output_type": "stream",
     "text": [
      "-1395.0\n"
     ]
    }
   ],
   "source": [
    "print('{:.5}'.format(score('AAAAAAAAAAAAAAAAAAAAAAAAAAAAAAAA')))"
   ]
  },
  {
   "cell_type": "code",
   "execution_count": 47,
   "metadata": {},
   "outputs": [
    {
     "name": "stdout",
     "output_type": "stream",
     "text": [
      "CPU times: user 40 ms, sys: 11.7 ms, total: 51.7 ms\n",
      "Wall time: 50.1 ms\n"
     ]
    },
    {
     "data": {
      "text/plain": [
       "-495.99999999999994"
      ]
     },
     "execution_count": 47,
     "metadata": {},
     "output_type": "execute_result"
    }
   ],
   "source": [
    "%%time\n",
    "score('AAA')"
   ]
  },
  {
   "cell_type": "code",
   "execution_count": 48,
   "metadata": {},
   "outputs": [],
   "source": [
    "def symmetric_one_site_mutate(sequence_string):\n",
    "    ind_to_mutate = np.random.randint(len(sequence_string))\n",
    "    residue_to_insert = standard_amino_acids[np.random.randint(len(standard_amino_acids))]\n",
    "    \n",
    "    sequence_as_list = list(sequence_string)\n",
    "    sequence_as_list[ind_to_mutate] = residue_to_insert\n",
    "    return ''.join(sequence_as_list)\n",
    "\n",
    "def random_deletion(sequence_string, min_length=3):\n",
    "    \"\"\"if deleting a residue won't make the string too short, delete a position at random\"\"\"\n",
    "    if len(sequence_string) <= min_length + 1:\n",
    "        return sequence_string\n",
    "    ind_to_delete = np.random.randint(len(sequence_string))\n",
    "    sequence_as_list = list(sequence_string)\n",
    "    sequence_as_list[ind_to_delete] = ''\n",
    "    return ''.join(sequence_as_list)\n",
    "\n",
    "\n",
    "def random_insertion(sequence_string, max_length=60):\n",
    "    \"\"\"if inserting a residue won't make the string too long, insert a residue at random\"\"\"\n",
    "    if len(sequence_string) >= max_length - 1:\n",
    "        return sequence_string\n",
    "    \n",
    "    residue_to_insert = standard_amino_acids[np.random.randint(len(standard_amino_acids))]\n",
    "    ind_to_insert = np.random.randint(len(sequence_string) + 1)\n",
    "    sequence_as_list = list(sequence_string)\n",
    "    sequence_as_list.insert(ind_to_insert, residue_to_insert)\n",
    "    return ''.join(sequence_as_list)\n",
    "\n",
    "moves = [symmetric_one_site_mutate, random_deletion, random_insertion]\n",
    "\n",
    "def almost_symmetric_one_site_move(sequence_string):\n",
    "    return moves[np.random.randint(len(moves))](sequence_string)"
   ]
  },
  {
   "cell_type": "code",
   "execution_count": 49,
   "metadata": {},
   "outputs": [],
   "source": [
    "def random_walk_mh(x0, log_prob_func, symmetric_proposal_func, n_steps=1000):\n",
    "    \"\"\"Random-walk Metropolis-Hastings\n",
    "    \n",
    "    Parameters\n",
    "    ----------\n",
    "    x0 : object\n",
    "        initial state of sampler\n",
    "    log_prob_func : callable, accepts an object like x0 and returns a float\n",
    "        unnormalized log probability density function\n",
    "    symmetric_proposal_func : callable, accepts an object like x0 and returns another object like x0\n",
    "        assume this samples from a symmetric proposal distribution (p(y|x) = p(x|y))\n",
    "    n_steps : integer\n",
    "        number of MCMC steps\n",
    "    \n",
    "    Returns\n",
    "    -------\n",
    "    traj : [n_steps + 1] list of objects\n",
    "        trajectory of samples generated by MCMC\n",
    "    log_probs : [n_steps + 1] array of floats\n",
    "        unnormalized log-probabilities of the samples\n",
    "    acceptance_fraction : float in [0,1]\n",
    "        fraction of accepted proposals\n",
    "    \"\"\"\n",
    "    traj = [x0]\n",
    "    log_probs = [log_prob_func(x0)]\n",
    "\n",
    "    acceptances = 0\n",
    "    r = range(n_steps)\n",
    "    trange = tqdm(r)\n",
    "    for n in trange:\n",
    "\n",
    "        x_proposal = symmetric_proposal_func(traj[-1])\n",
    "        log_prob_proposal = log_prob_func(x_proposal)\n",
    "\n",
    "        if np.random.rand() < np.exp(log_prob_proposal - log_probs[-1]):\n",
    "            traj.append(x_proposal)\n",
    "            log_probs.append(log_prob_proposal)\n",
    "            acceptances += 1\n",
    "        else:\n",
    "            traj.append(traj[-1])\n",
    "            log_probs.append(log_probs[-1])\n",
    "\n",
    "        trange.set_postfix({\n",
    "            'log_prob': log_probs[-1],\n",
    "            'accept_fraction': float(acceptances) / (1 + n),\n",
    "            'len(peptide)': len(traj[-1]),\n",
    "            'peptide': traj[-1]\n",
    "        })\n",
    "    del (trange)\n",
    "\n",
    "    return traj, np.array(log_probs), float(acceptances) / n_steps"
   ]
  },
  {
   "cell_type": "code",
   "execution_count": 50,
   "metadata": {},
   "outputs": [
    {
     "data": {
      "text/plain": [
       "12"
      ]
     },
     "execution_count": 50,
     "metadata": {},
     "output_type": "execute_result"
    }
   ],
   "source": [
    "x0 = 'GRKKRRQRRRPQ' # TAT sequence\n",
    "len(x0)"
   ]
  },
  {
   "cell_type": "code",
   "execution_count": 51,
   "metadata": {},
   "outputs": [
    {
     "name": "stderr",
     "output_type": "stream",
     "text": [
      "100%|██████████| 1000/1000 [01:00<00:00, 16.57it/s, log_prob=-7.26e+03, accept_fraction=0.374, len(peptide)=4, peptide=RRRR]     \n"
     ]
    }
   ],
   "source": [
    "np.random.seed(0)\n",
    "peptides, scores, acceptance_rate = random_walk_mh(x0,\n",
    "               log_prob_func=lambda peptide : score(peptide, sigma=0.5),\n",
    "               symmetric_proposal_func=almost_symmetric_one_site_move,\n",
    "               n_steps=1000,\n",
    "              )"
   ]
  },
  {
   "cell_type": "code",
   "execution_count": 52,
   "metadata": {},
   "outputs": [
    {
     "data": {
      "text/plain": [
       "[<matplotlib.lines.Line2D at 0x11402b6a0>]"
      ]
     },
     "execution_count": 52,
     "metadata": {},
     "output_type": "execute_result"
    },
    {
     "data": {
      "image/png": "[encoded data removed]",
      "text/plain": [
       "<Figure size 432x288 with 1 Axes>"
      ]
     },
     "metadata": {},
     "output_type": "display_data"
    }
   ],
   "source": [
    "plt.plot(list(map(len, peptides)))"
   ]
  },
  {
   "cell_type": "code",
   "execution_count": 53,
   "metadata": {},
   "outputs": [
    {
     "data": {
      "text/plain": [
       "25"
      ]
     },
     "execution_count": 53,
     "metadata": {},
     "output_type": "execute_result"
    }
   ],
   "source": [
    "unique_peptides = sorted(list(set(peptides)))\n",
    "len(unique_peptides)"
   ]
  },
  {
   "cell_type": "code",
   "execution_count": 86,
   "metadata": {},
   "outputs": [
    {
     "name": "stderr",
     "output_type": "stream",
     "text": [
      "100%|██████████| 500000/500000 [7:18:04<00:00, 19.02it/s, log_prob=-131, accept_fraction=0.54, len(peptide)=10, peptide=LTMHMAADYE]                                                   \n"
     ]
    }
   ],
   "source": [
    "np.random.seed(0)\n",
    "peptides, scores, acceptance_rate = random_walk_mh(x0,\n",
    "               log_prob_func=lambda peptide : score(peptide, sigma=1.4),\n",
    "               symmetric_proposal_func=almost_symmetric_one_site_move,\n",
    "               n_steps=500000,\n",
    "              )"
   ]
  },
  {
   "cell_type": "code",
   "execution_count": null,
   "metadata": {},
   "outputs": [],
   "source": []
  },
  {
   "cell_type": "code",
   "execution_count": 87,
   "metadata": {},
   "outputs": [],
   "source": [
    "sampled_lengths = np.array(list(map(len, peptides)))"
   ]
  },
  {
   "cell_type": "code",
   "execution_count": 88,
   "metadata": {},
   "outputs": [
    {
     "data": {
      "text/plain": [
       "Text(0.5,0,'MCMC iteration')"
      ]
     },
     "execution_count": 88,
     "metadata": {},
     "output_type": "execute_result"
    },
    {
     "data": {
      "image/png": "[encoded data removed]",
      "text/plain": [
       "<Figure size 432x288 with 1 Axes>"
      ]
     },
     "metadata": {},
     "output_type": "display_data"
    }
   ],
   "source": [
    "plt.plot(sampled_lengths)\n",
    "plt.ylabel('peptide length')\n",
    "plt.xlabel('MCMC iteration')"
   ]
  },
  {
   "cell_type": "code",
   "execution_count": 89,
   "metadata": {},
   "outputs": [
    {
     "data": {
      "text/plain": [
       "(array([112388., 107867., 134396.,  75658.,  39025.,  20861.,   5977.,\n",
       "          2901.,    769.,    159.]),\n",
       " array([ 4. ,  9.4, 14.8, 20.2, 25.6, 31. , 36.4, 41.8, 47.2, 52.6, 58. ]),\n",
       " <a list of 10 Patch objects>)"
      ]
     },
     "execution_count": 89,
     "metadata": {},
     "output_type": "execute_result"
    },
    {
     "data": {
      "image/png": "[encoded data removed]",
      "text/plain": [
       "<Figure size 432x288 with 1 Axes>"
      ]
     },
     "metadata": {},
     "output_type": "display_data"
    }
   ],
   "source": [
    "plt.hist(sampled_lengths)"
   ]
  },
  {
   "cell_type": "code",
   "execution_count": 90,
   "metadata": {},
   "outputs": [],
   "source": [
    "with open('peptide_traj.txt', 'w') as f:\n",
    "    f.writelines(['{}\\n'.format(p) for p in peptides])"
   ]
  },
  {
   "cell_type": "code",
   "execution_count": 91,
   "metadata": {},
   "outputs": [
    {
     "data": {
      "text/plain": [
       "['AAAAHHHEY', 'AAACHHHEWE', 'AAAHHHEE', 'AAAHHHEWE', 'AAAHHHEY']"
      ]
     },
     "execution_count": 91,
     "metadata": {},
     "output_type": "execute_result"
    }
   ],
   "source": [
    "unique_peptides = sorted(list(set(peptides)))\n",
    "unique_peptides[:5]"
   ]
  },
  {
   "cell_type": "code",
   "execution_count": 92,
   "metadata": {},
   "outputs": [],
   "source": [
    "with open('unique_peptides.txt', 'w') as f:\n",
    "    f.writelines(['{}\\n'.format(p) for p in unique_peptides])"
   ]
  },
  {
   "cell_type": "code",
   "execution_count": 93,
   "metadata": {},
   "outputs": [
    {
     "data": {
      "text/plain": [
       "240767"
      ]
     },
     "execution_count": 93,
     "metadata": {},
     "output_type": "execute_result"
    }
   ],
   "source": [
    "len(unique_peptides)"
   ]
  },
  {
   "cell_type": "code",
   "execution_count": 94,
   "metadata": {},
   "outputs": [
    {
     "data": {
      "text/plain": [
       "({'GRKKRRQRRRPQ', 'RRRR', 'RRRRR'}, 3)"
      ]
     },
     "execution_count": 94,
     "metadata": {},
     "output_type": "execute_result"
    }
   ],
   "source": [
    "set(unique_peptides).intersection(set(reference_set)), len(set(unique_peptides).intersection(set(reference_set)))"
   ]
  },
  {
   "cell_type": "code",
   "execution_count": 79,
   "metadata": {},
   "outputs": [
    {
     "data": {
      "text/plain": [
       "'GRKKRRQRRRPQ'"
      ]
     },
     "execution_count": 79,
     "metadata": {},
     "output_type": "execute_result"
    }
   ],
   "source": [
    "x0"
   ]
  }
 ],
 "metadata": {
  "kernelspec": {
   "display_name": "Python 3",
   "language": "python",
   "name": "python3"
  },
  "language_info": {
   "codemirror_mode": {
    "name": "ipython",
    "version": 3
   },
   "file_extension": ".py",
   "mimetype": "text/x-python",
   "name": "python",
   "nbconvert_exporter": "python",
   "pygments_lexer": "ipython3",
   "version": "3.7.0"
  }
 },
 "nbformat": 4,
 "nbformat_minor": 2
}
